{
 "cells": [
  {
   "cell_type": "markdown",
   "source": [
    "Graphing the data from Template_run_Auto.py"
   ],
   "metadata": {
    "collapsed": false
   }
  },
  {
   "cell_type": "code",
   "execution_count": 1,
   "outputs": [],
   "source": [
    "import pandas as pd\n",
    "import matplotlib.pyplot as plt\n",
    "import numpy as np\n",
    "import os"
   ],
   "metadata": {
    "collapsed": false
   }
  },
  {
   "cell_type": "code",
   "execution_count": 6,
   "metadata": {
    "collapsed": true
   },
   "outputs": [],
   "source": [
    "os.getcwd()\n",
    "test_title = 'individual' # title of the test, eg. 1,2, A, B, Initial.\n",
    "field = 'cdfs'\n",
    "agn_sed = [1]\n",
    "id_key = 'normal' # normal, high or low\n",
    "\n",
    "#opening ZFOURGE data\n",
    "id_key_dict = {'normal': 'inputs/alternate_catalogues/cdfs.range.(0, -1).cat',\n",
    "      'fraction_bin_10': f'inputs/alternate_catalogues/{field}.fraction.bin10.0.cat',\n",
    "   'luminosity_bin_10' : f'inputs/alternate_catalogues/{field}.luminosity.bin10.0.cat'}\n",
    "\n",
    "main_cat = pd.read_csv(id_key_dict[id_key]) # get the catalogue for the id_key\n",
    "main_cat.to_csv('inputs/eazy_test.cat', index=False) # create a new catalogue, allows for change to be made in this cell\n",
    "\n",
    "#opening test data\n",
    "individual_dir = f'outputs/cdfs/{test_title}/'\n",
    "directory = f'induvidual_data_{field}_{id_key}_0.005_{agn_sed}_True.csv'\n",
    "df = pd.read_csv(individual_dir+directory)\n",
    "\n",
    "#Setting up the main catalogue\n",
    "main = pd.read_csv('inputs/eazy_test.cat', sep=\" \", comment=\"#\", header=None, skipinitialspace=True) # opening cut cat, and adjusting it\n",
    "headers = pd.read_csv('inputs/eazy_test.cat', sep=\" \", header=None, nrows=1).iloc[0]\n",
    "headers = headers[1:]\n",
    "main.columns = headers\n",
    "agn_per_dir = f'inputs/{field}_agn_frac.txt' # file with AGN fractions for each object, prepared in catalogue_prepare.ipynb\n",
    "all_bayes = pd.read_csv(agn_per_dir, sep=\"\\s+\", comment='#')\n",
    "main = pd.merge(main, all_bayes, on='id', how='left') # AGN fraction for each object"
   ]
  },
  {
   "cell_type": "code",
   "execution_count": null,
   "outputs": [],
   "source": [],
   "metadata": {
    "collapsed": false
   }
  }
 ],
 "metadata": {
  "kernelspec": {
   "display_name": "Python 3",
   "language": "python",
   "name": "python3"
  },
  "language_info": {
   "codemirror_mode": {
    "name": "ipython",
    "version": 2
   },
   "file_extension": ".py",
   "mimetype": "text/x-python",
   "name": "python",
   "nbconvert_exporter": "python",
   "pygments_lexer": "ipython2",
   "version": "2.7.6"
  }
 },
 "nbformat": 4,
 "nbformat_minor": 0
}
