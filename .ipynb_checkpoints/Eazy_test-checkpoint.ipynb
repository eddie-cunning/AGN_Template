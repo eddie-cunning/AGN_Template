{
 "cells": [
  {
   "cell_type": "code",
   "execution_count": 1,
   "metadata": {
    "collapsed": true
   },
   "outputs": [],
   "source": [
    "import eazy\n",
    "import matplotlib.pyplot as plt\n",
    "import numpy as np\n",
    "import pandas as pd\n",
    "from astroquery.vizier import Vizier as v\n",
    "import astropy.coordinates as coords\n",
    "import astropy.units as u"
   ]
  },
  {
   "cell_type": "markdown",
   "source": [
    "Testing with EAZY and the ZFOURGE catalogue"
   ],
   "metadata": {
    "collapsed": false
   }
  },
  {
   "cell_type": "code",
   "execution_count": 2,
   "outputs": [
    {
     "name": "stdout",
     "output_type": "stream",
     "text": [
      "Empty TableList\n"
     ]
    },
    {
     "ename": "AttributeError",
     "evalue": "'TableList' object has no attribute 'write'",
     "output_type": "error",
     "traceback": [
      "\u001B[1;31m---------------------------------------------------------------------------\u001B[0m",
      "\u001B[1;31mAttributeError\u001B[0m                            Traceback (most recent call last)",
      "Cell \u001B[1;32mIn[2], line 33\u001B[0m\n\u001B[0;32m     31\u001B[0m \u001B[38;5;66;03m# Setting the catalog name and overwriting it\u001B[39;00m\n\u001B[0;32m     32\u001B[0m cat_name \u001B[38;5;241m=\u001B[39m \u001B[38;5;124mf\u001B[39m\u001B[38;5;124m'\u001B[39m\u001B[38;5;124mzfourge.\u001B[39m\u001B[38;5;132;01m{\u001B[39;00mfield\u001B[38;5;132;01m}\u001B[39;00m\u001B[38;5;124m.zspec.vizier.csv\u001B[39m\u001B[38;5;124m'\u001B[39m\n\u001B[1;32m---> 33\u001B[0m \u001B[43mzf\u001B[49m\u001B[38;5;241;43m.\u001B[39;49m\u001B[43mwrite\u001B[49m(cat_name, overwrite\u001B[38;5;241m=\u001B[39m\u001B[38;5;28;01mTrue\u001B[39;00m)\n",
      "\u001B[1;31mAttributeError\u001B[0m: 'TableList' object has no attribute 'write'"
     ]
    }
   ],
   "source": [
    "# Downloading the Catalogue from https://vizier.cfa.harvard.edu/viz-bin/VizieR-3?-source=J/ApJ/830/51/zf_cdfs\n",
    "\n",
    "# Choosing a field from ZFOURGE\n",
    "# field = 'cdfs'\n",
    "field = 'uds'\n",
    "radec = {'cdfs':(53.0, -27.9),\n",
    "         'uds':(34.3, -5.3)}\n",
    "\n",
    "db = f'\"J/ApJ/830/51/zf_{field}\"'\n",
    "\n",
    "# Bright mag to limit catalog size\n",
    "MAX_KMAG = 22.5\n",
    "FKsall_max = str(10**(-0.4*(MAX_KMAG-25)))\n",
    "\n",
    "# Get table from Vizier using astroquery\n",
    "# Assuming radec[field] is a tuple of (ra, dec) in degrees\n",
    "coord = coords.SkyCoord(*radec[field], unit=(u.deg, u.deg), frame='icrs')\n",
    "\n",
    "# Define the Vizier query\n",
    "vis = v(columns=['*', '+_r'], column_filters={\"zspec\":\">0\", \"FKsall\":\">\" + FKsall_max})\n",
    "\n",
    "# Execute the query\n",
    "zf = vis.query_region(coord, radius=60*u.arcsec, catalog=db)\n",
    "\n",
    "#zf = query_tap_catalog(*radec[field], radius=60, db=db, vizier=True,\n",
    "#                       extra=f\" AND (zspec > 0 OR FKsall > {10**(-0.4*(MAX_KMAG-25))})\", verbose=True)\n",
    "\n",
    "# print the result\n",
    "print(zf)\n",
    "\n",
    "# Setting the catalog name and overwriting it\n",
    "cat_name = f'zfourge.{field}.zspec.vizier.csv'\n",
    "zf.write(cat_name, overwrite=True)"
   ],
   "metadata": {
    "collapsed": false
   }
  },
  {
   "cell_type": "code",
   "execution_count": null,
   "outputs": [],
   "source": [
    "test = v.query_region(coord, radius=60*u.arcsec, catalog=db)\n",
    "print(test)"
   ],
   "metadata": {
    "collapsed": false
   }
  },
  {
   "cell_type": "code",
   "execution_count": null,
   "outputs": [],
   "source": [
    "# Update parameters\n",
    "\n",
    "# Predefined translate file\n",
    "trans_name = f'zfourge.{field}.vizier.translate.csv'\n",
    "csv_trans = pd.read_csv(f'https://erda.ku.dk/vgrid/Gabriel%20Brammer/Catalogs/{trans_name}')\n",
    "csv_trans.to_csv(trans_name, index=False)\n",
    "\n",
    "# New parameters\n",
    "params = {}\n",
    "params['MW_EBV'] = eazy.utils.get_irsa_dust(np.nanmedian(zf['ra']), np.nanmedian(zf['dec']))\n",
    "\n",
    "params['CATALOG_FILE'] = cat_name\n",
    "params['PRIOR_ABZP'] = 25\n",
    "params['CATALOG_FORMAT'] = 'csv'\n",
    "params['PRIOR_FILTER'] = 255\n",
    "#params['TEMPLATES_FILE'] = 'templates/spline_templates_v2/tweak_spline.param'\n",
    "params['MAIN_OUTPUT_FILE'] = f'zfourge.{field}'\n",
    "\n",
    "params['SYS_ERR'] = 0.03\n",
    "\n",
    "params['Z_MAX'] = 12.\n",
    "params['Z_STEP'] = 0.005\n",
    "\n",
    "translate_file = trans_name"
   ],
   "metadata": {
    "collapsed": false
   }
  }
 ],
 "metadata": {
  "kernelspec": {
   "display_name": "Python 3",
   "language": "python",
   "name": "python3"
  },
  "language_info": {
   "codemirror_mode": {
    "name": "ipython",
    "version": 2
   },
   "file_extension": ".py",
   "mimetype": "text/x-python",
   "name": "python",
   "nbconvert_exporter": "python",
   "pygments_lexer": "ipython2",
   "version": "2.7.6"
  }
 },
 "nbformat": 4,
 "nbformat_minor": 0
}
