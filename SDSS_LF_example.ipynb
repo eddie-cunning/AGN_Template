{
 "cells": [
  {
   "cell_type": "code",
   "execution_count": 3,
   "id": "initial_id",
   "metadata": {
    "collapsed": true,
    "ExecuteTime": {
     "end_time": "2023-11-03T01:48:26.326079Z",
     "start_time": "2023-11-03T01:48:26.048404Z"
    }
   },
   "outputs": [],
   "source": [
    "import numpy as np\n",
    "import matplotlib.pyplot as plt\n",
    "import pandas as pd"
   ]
  },
  {
   "cell_type": "markdown",
   "source": [
    "Let's submit a SQL (Structured Query Language) query to the SDSS DR18 database server (https://www.sdss.org/dr18/)"
   ],
   "metadata": {
    "collapsed": false
   },
   "id": "51e95e9c65271f7e"
  },
  {
   "cell_type": "code",
   "execution_count": 4,
   "outputs": [
    {
     "ename": "TypeError",
     "evalue": "Cannot convert fill_value N/A to dtype uint64",
     "output_type": "error",
     "traceback": [
      "\u001B[1;31m---------------------------------------------------------------------------\u001B[0m",
      "\u001B[1;31mValueError\u001B[0m                                Traceback (most recent call last)",
      "File \u001B[1;32m~\\PycharmProjects\\SEDTemplate\\venv\\lib\\site-packages\\numpy\\ma\\core.py:467\u001B[0m, in \u001B[0;36m_check_fill_value\u001B[1;34m(fill_value, ndtype)\u001B[0m\n\u001B[0;32m    466\u001B[0m \u001B[38;5;28;01mtry\u001B[39;00m:\n\u001B[1;32m--> 467\u001B[0m     fill_value \u001B[38;5;241m=\u001B[39m \u001B[43mnp\u001B[49m\u001B[38;5;241;43m.\u001B[39;49m\u001B[43marray\u001B[49m\u001B[43m(\u001B[49m\u001B[43mfill_value\u001B[49m\u001B[43m,\u001B[49m\u001B[43m \u001B[49m\u001B[43mcopy\u001B[49m\u001B[38;5;241;43m=\u001B[39;49m\u001B[38;5;28;43;01mFalse\u001B[39;49;00m\u001B[43m,\u001B[49m\u001B[43m \u001B[49m\u001B[43mdtype\u001B[49m\u001B[38;5;241;43m=\u001B[39;49m\u001B[43mndtype\u001B[49m\u001B[43m)\u001B[49m\n\u001B[0;32m    468\u001B[0m \u001B[38;5;28;01mexcept\u001B[39;00m (\u001B[38;5;167;01mOverflowError\u001B[39;00m, \u001B[38;5;167;01mValueError\u001B[39;00m) \u001B[38;5;28;01mas\u001B[39;00m e:\n\u001B[0;32m    469\u001B[0m     \u001B[38;5;66;03m# Raise TypeError instead of OverflowError or ValueError.\u001B[39;00m\n\u001B[0;32m    470\u001B[0m     \u001B[38;5;66;03m# OverflowError is seldom used, and the real problem here is\u001B[39;00m\n\u001B[0;32m    471\u001B[0m     \u001B[38;5;66;03m# that the passed fill_value is not compatible with the ndtype.\u001B[39;00m\n",
      "\u001B[1;31mValueError\u001B[0m: invalid literal for int() with base 10: 'N/A'",
      "\nThe above exception was the direct cause of the following exception:\n",
      "\u001B[1;31mTypeError\u001B[0m                                 Traceback (most recent call last)",
      "Cell \u001B[1;32mIn[4], line 11\u001B[0m\n\u001B[0;32m      3\u001B[0m zmax\u001B[38;5;241m=\u001B[39m\u001B[38;5;241m0.05\u001B[39m\n\u001B[0;32m      4\u001B[0m sql\u001B[38;5;241m=\u001B[39m\u001B[38;5;124m'\u001B[39m\u001B[38;5;124m SELECT \u001B[39m\u001B[38;5;130;01m\\\u001B[39;00m\n\u001B[0;32m      5\u001B[0m \u001B[38;5;124m      objid,ra,dec,petroMag_g,petroMag_r, \u001B[39m\u001B[38;5;130;01m\\\u001B[39;00m\n\u001B[0;32m      6\u001B[0m \u001B[38;5;124m      extinction_g,extinction_r,z,class \u001B[39m\u001B[38;5;130;01m\\\u001B[39;00m\n\u001B[1;32m   (...)\u001B[0m\n\u001B[0;32m      9\u001B[0m \u001B[38;5;124m      z > \u001B[39m\u001B[38;5;132;01m{:f}\u001B[39;00m\u001B[38;5;124m AND z < \u001B[39m\u001B[38;5;132;01m{:f}\u001B[39;00m\u001B[38;5;124m AND class = \u001B[39m\u001B[38;5;124m\"\u001B[39m\u001B[38;5;124mGALAXY\u001B[39m\u001B[38;5;124m\"\u001B[39m\u001B[38;5;124m \u001B[39m\u001B[38;5;130;01m\\\u001B[39;00m\n\u001B[0;32m     10\u001B[0m \u001B[38;5;124m      AND (ra between 140 and 240) and (dec between 0 and 50)\u001B[39m\u001B[38;5;124m'\u001B[39m\u001B[38;5;241m.\u001B[39mformat(zmin,zmax)\n\u001B[1;32m---> 11\u001B[0m dr18\u001B[38;5;241m=\u001B[39m\u001B[43mSDSS\u001B[49m\u001B[38;5;241;43m.\u001B[39;49m\u001B[43mquery_sql\u001B[49m\u001B[43m(\u001B[49m\u001B[43msql\u001B[49m\u001B[43m,\u001B[49m\u001B[43m \u001B[49m\u001B[43mdata_release\u001B[49m\u001B[38;5;241;43m=\u001B[39;49m\u001B[38;5;241;43m18\u001B[39;49m\u001B[43m)\u001B[49m \n\u001B[0;32m     13\u001B[0m \u001B[38;5;28mprint\u001B[39m(\u001B[38;5;28mlen\u001B[39m(dr18))\n",
      "File \u001B[1;32m~\\PycharmProjects\\SEDTemplate\\venv\\lib\\site-packages\\astroquery\\utils\\class_or_instance.py:25\u001B[0m, in \u001B[0;36mclass_or_instance.__get__.<locals>.f\u001B[1;34m(*args, **kwds)\u001B[0m\n\u001B[0;32m     23\u001B[0m \u001B[38;5;28;01mdef\u001B[39;00m \u001B[38;5;21mf\u001B[39m(\u001B[38;5;241m*\u001B[39margs, \u001B[38;5;241m*\u001B[39m\u001B[38;5;241m*\u001B[39mkwds):\n\u001B[0;32m     24\u001B[0m     \u001B[38;5;28;01mif\u001B[39;00m obj \u001B[38;5;129;01mis\u001B[39;00m \u001B[38;5;129;01mnot\u001B[39;00m \u001B[38;5;28;01mNone\u001B[39;00m:\n\u001B[1;32m---> 25\u001B[0m         \u001B[38;5;28;01mreturn\u001B[39;00m \u001B[38;5;28mself\u001B[39m\u001B[38;5;241m.\u001B[39mfn(obj, \u001B[38;5;241m*\u001B[39margs, \u001B[38;5;241m*\u001B[39m\u001B[38;5;241m*\u001B[39mkwds)\n\u001B[0;32m     26\u001B[0m     \u001B[38;5;28;01melse\u001B[39;00m:\n\u001B[0;32m     27\u001B[0m         \u001B[38;5;28;01mreturn\u001B[39;00m \u001B[38;5;28mself\u001B[39m\u001B[38;5;241m.\u001B[39mfn(\u001B[38;5;28mcls\u001B[39m, \u001B[38;5;241m*\u001B[39margs, \u001B[38;5;241m*\u001B[39m\u001B[38;5;241m*\u001B[39mkwds)\n",
      "File \u001B[1;32m~\\PycharmProjects\\SEDTemplate\\venv\\lib\\site-packages\\astroquery\\utils\\process_asyncs.py:29\u001B[0m, in \u001B[0;36masync_to_sync.<locals>.create_method.<locals>.newmethod\u001B[1;34m(self, *args, **kwargs)\u001B[0m\n\u001B[0;32m     27\u001B[0m \u001B[38;5;28;01mif\u001B[39;00m kwargs\u001B[38;5;241m.\u001B[39mget(\u001B[38;5;124m'\u001B[39m\u001B[38;5;124mget_query_payload\u001B[39m\u001B[38;5;124m'\u001B[39m) \u001B[38;5;129;01mor\u001B[39;00m kwargs\u001B[38;5;241m.\u001B[39mget(\u001B[38;5;124m'\u001B[39m\u001B[38;5;124mfield_help\u001B[39m\u001B[38;5;124m'\u001B[39m):\n\u001B[0;32m     28\u001B[0m     \u001B[38;5;28;01mreturn\u001B[39;00m response\n\u001B[1;32m---> 29\u001B[0m result \u001B[38;5;241m=\u001B[39m \u001B[38;5;28;43mself\u001B[39;49m\u001B[38;5;241;43m.\u001B[39;49m\u001B[43m_parse_result\u001B[49m\u001B[43m(\u001B[49m\u001B[43mresponse\u001B[49m\u001B[43m,\u001B[49m\u001B[43m \u001B[49m\u001B[43mverbose\u001B[49m\u001B[38;5;241;43m=\u001B[39;49m\u001B[43mverbose\u001B[49m\u001B[43m)\u001B[49m\n\u001B[0;32m     30\u001B[0m \u001B[38;5;28mself\u001B[39m\u001B[38;5;241m.\u001B[39mtable \u001B[38;5;241m=\u001B[39m result\n\u001B[0;32m     31\u001B[0m \u001B[38;5;28;01mreturn\u001B[39;00m result\n",
      "File \u001B[1;32m~\\PycharmProjects\\SEDTemplate\\venv\\lib\\site-packages\\astroquery\\sdss\\core.py:1052\u001B[0m, in \u001B[0;36mSDSSClass._parse_result\u001B[1;34m(self, response, verbose)\u001B[0m\n\u001B[0;32m   1050\u001B[0m     \u001B[38;5;28;01mfor\u001B[39;00m id_column \u001B[38;5;129;01min\u001B[39;00m (\u001B[38;5;124m'\u001B[39m\u001B[38;5;124mobjid\u001B[39m\u001B[38;5;124m'\u001B[39m, \u001B[38;5;124m'\u001B[39m\u001B[38;5;124mspecobjid\u001B[39m\u001B[38;5;124m'\u001B[39m, \u001B[38;5;124m'\u001B[39m\u001B[38;5;124mobjID\u001B[39m\u001B[38;5;124m'\u001B[39m, \u001B[38;5;124m'\u001B[39m\u001B[38;5;124mspecobjID\u001B[39m\u001B[38;5;124m'\u001B[39m, \u001B[38;5;124m'\u001B[39m\u001B[38;5;124mspecObjID\u001B[39m\u001B[38;5;124m'\u001B[39m):\n\u001B[0;32m   1051\u001B[0m         \u001B[38;5;28;01mif\u001B[39;00m id_column \u001B[38;5;129;01min\u001B[39;00m arr\u001B[38;5;241m.\u001B[39mcolumns:\n\u001B[1;32m-> 1052\u001B[0m             arr[id_column] \u001B[38;5;241m=\u001B[39m \u001B[43marr\u001B[49m\u001B[43m[\u001B[49m\u001B[43mid_column\u001B[49m\u001B[43m]\u001B[49m\u001B[38;5;241;43m.\u001B[39;49m\u001B[43mastype\u001B[49m\u001B[43m(\u001B[49m\u001B[43mnp\u001B[49m\u001B[38;5;241;43m.\u001B[39;49m\u001B[43muint64\u001B[49m\u001B[43m)\u001B[49m\n\u001B[0;32m   1054\u001B[0m \u001B[38;5;28;01mif\u001B[39;00m \u001B[38;5;28mlen\u001B[39m(arr) \u001B[38;5;241m==\u001B[39m \u001B[38;5;241m0\u001B[39m:\n\u001B[0;32m   1055\u001B[0m     \u001B[38;5;28;01mreturn\u001B[39;00m \u001B[38;5;28;01mNone\u001B[39;00m\n",
      "File \u001B[1;32m~\\PycharmProjects\\SEDTemplate\\venv\\lib\\site-packages\\astropy\\table\\column.py:708\u001B[0m, in \u001B[0;36mBaseColumn.__array_finalize__\u001B[1;34m(self, obj)\u001B[0m\n\u001B[0;32m    705\u001B[0m     \u001B[38;5;28;01mreturn\u001B[39;00m\n\u001B[0;32m    707\u001B[0m \u001B[38;5;28;01mif\u001B[39;00m \u001B[38;5;28mcallable\u001B[39m(\u001B[38;5;28msuper\u001B[39m()\u001B[38;5;241m.\u001B[39m__array_finalize__):\n\u001B[1;32m--> 708\u001B[0m     \u001B[38;5;28;43msuper\u001B[39;49m\u001B[43m(\u001B[49m\u001B[43m)\u001B[49m\u001B[38;5;241;43m.\u001B[39;49m\u001B[43m__array_finalize__\u001B[49m\u001B[43m(\u001B[49m\u001B[43mobj\u001B[49m\u001B[43m)\u001B[49m\n\u001B[0;32m    710\u001B[0m \u001B[38;5;66;03m# Self was created from template (e.g. obj[slice] or (obj * 2))\u001B[39;00m\n\u001B[0;32m    711\u001B[0m \u001B[38;5;66;03m# or viewcast e.g. obj.view(Column).  In either case we want to\u001B[39;00m\n\u001B[0;32m    712\u001B[0m \u001B[38;5;66;03m# init Column attributes for self from obj if possible.\u001B[39;00m\n\u001B[0;32m    713\u001B[0m \u001B[38;5;28mself\u001B[39m\u001B[38;5;241m.\u001B[39mparent_table \u001B[38;5;241m=\u001B[39m \u001B[38;5;28;01mNone\u001B[39;00m\n",
      "File \u001B[1;32m~\\PycharmProjects\\SEDTemplate\\venv\\lib\\site-packages\\numpy\\ma\\core.py:3054\u001B[0m, in \u001B[0;36mMaskedArray.__array_finalize__\u001B[1;34m(self, obj)\u001B[0m\n\u001B[0;32m   3052\u001B[0m \u001B[38;5;66;03m# Finalize the fill_value\u001B[39;00m\n\u001B[0;32m   3053\u001B[0m \u001B[38;5;28;01mif\u001B[39;00m \u001B[38;5;28mself\u001B[39m\u001B[38;5;241m.\u001B[39m_fill_value \u001B[38;5;129;01mis\u001B[39;00m \u001B[38;5;129;01mnot\u001B[39;00m \u001B[38;5;28;01mNone\u001B[39;00m:\n\u001B[1;32m-> 3054\u001B[0m     \u001B[38;5;28mself\u001B[39m\u001B[38;5;241m.\u001B[39m_fill_value \u001B[38;5;241m=\u001B[39m \u001B[43m_check_fill_value\u001B[49m\u001B[43m(\u001B[49m\u001B[38;5;28;43mself\u001B[39;49m\u001B[38;5;241;43m.\u001B[39;49m\u001B[43m_fill_value\u001B[49m\u001B[43m,\u001B[49m\u001B[43m \u001B[49m\u001B[38;5;28;43mself\u001B[39;49m\u001B[38;5;241;43m.\u001B[39;49m\u001B[43mdtype\u001B[49m\u001B[43m)\u001B[49m\n\u001B[0;32m   3055\u001B[0m \u001B[38;5;28;01melif\u001B[39;00m \u001B[38;5;28mself\u001B[39m\u001B[38;5;241m.\u001B[39mdtype\u001B[38;5;241m.\u001B[39mnames \u001B[38;5;129;01mis\u001B[39;00m \u001B[38;5;129;01mnot\u001B[39;00m \u001B[38;5;28;01mNone\u001B[39;00m:\n\u001B[0;32m   3056\u001B[0m     \u001B[38;5;66;03m# Finalize the default fill_value for structured arrays\u001B[39;00m\n\u001B[0;32m   3057\u001B[0m     \u001B[38;5;28mself\u001B[39m\u001B[38;5;241m.\u001B[39m_fill_value \u001B[38;5;241m=\u001B[39m _check_fill_value(\u001B[38;5;28;01mNone\u001B[39;00m, \u001B[38;5;28mself\u001B[39m\u001B[38;5;241m.\u001B[39mdtype)\n",
      "File \u001B[1;32m~\\PycharmProjects\\SEDTemplate\\venv\\lib\\site-packages\\numpy\\ma\\core.py:473\u001B[0m, in \u001B[0;36m_check_fill_value\u001B[1;34m(fill_value, ndtype)\u001B[0m\n\u001B[0;32m    468\u001B[0m         \u001B[38;5;28;01mexcept\u001B[39;00m (\u001B[38;5;167;01mOverflowError\u001B[39;00m, \u001B[38;5;167;01mValueError\u001B[39;00m) \u001B[38;5;28;01mas\u001B[39;00m e:\n\u001B[0;32m    469\u001B[0m             \u001B[38;5;66;03m# Raise TypeError instead of OverflowError or ValueError.\u001B[39;00m\n\u001B[0;32m    470\u001B[0m             \u001B[38;5;66;03m# OverflowError is seldom used, and the real problem here is\u001B[39;00m\n\u001B[0;32m    471\u001B[0m             \u001B[38;5;66;03m# that the passed fill_value is not compatible with the ndtype.\u001B[39;00m\n\u001B[0;32m    472\u001B[0m             err_msg \u001B[38;5;241m=\u001B[39m \u001B[38;5;124m\"\u001B[39m\u001B[38;5;124mCannot convert fill_value \u001B[39m\u001B[38;5;132;01m%s\u001B[39;00m\u001B[38;5;124m to dtype \u001B[39m\u001B[38;5;132;01m%s\u001B[39;00m\u001B[38;5;124m\"\u001B[39m\n\u001B[1;32m--> 473\u001B[0m             \u001B[38;5;28;01mraise\u001B[39;00m \u001B[38;5;167;01mTypeError\u001B[39;00m(err_msg \u001B[38;5;241m%\u001B[39m (fill_value, ndtype)) \u001B[38;5;28;01mfrom\u001B[39;00m \u001B[38;5;21;01me\u001B[39;00m\n\u001B[0;32m    474\u001B[0m \u001B[38;5;28;01mreturn\u001B[39;00m np\u001B[38;5;241m.\u001B[39marray(fill_value)\n",
      "\u001B[1;31mTypeError\u001B[0m: Cannot convert fill_value N/A to dtype uint64"
     ]
    }
   ],
   "source": [
    "from astroquery.sdss import SDSS\n",
    "zmin=0.015\n",
    "zmax=0.05\n",
    "sql=' SELECT \\\n",
    "      objid,ra,dec,petroMag_g,petroMag_r, \\\n",
    "      extinction_g,extinction_r,z,class \\\n",
    "      FROM SpecPhotoAll \\\n",
    "    WHERE \\\n",
    "      z > {:f} AND z < {:f} AND class = \"GALAXY\" \\\n",
    "      AND (ra between 140 and 240) and (dec between 0 and 50)'.format(zmin,zmax)\n",
    "dr18=SDSS.query_sql(sql, data_release=18) \n",
    "\n",
    "print(len(dr18))"
   ],
   "metadata": {
    "collapsed": false,
    "ExecuteTime": {
     "end_time": "2023-11-03T01:47:28.805894Z",
     "start_time": "2023-11-03T01:47:22.651854Z"
    }
   },
   "id": "f23f001a99f150a5"
  },
  {
   "cell_type": "markdown",
   "source": [
    "Determine distances (in Mpc) from Hubble law"
   ],
   "metadata": {
    "collapsed": false
   },
   "id": "dba6ac4607f81801"
  },
  {
   "cell_type": "code",
   "execution_count": null,
   "outputs": [],
   "source": [
    "c=3.e5  # km/s\n",
    "h0=70   # km/s/Mpc\n",
    "dist=dr18['z']*c/h0  # distance in Mpc"
   ],
   "metadata": {
    "collapsed": false,
    "ExecuteTime": {
     "end_time": "2023-11-03T01:56:05.960386Z",
     "start_time": "2023-11-03T01:56:05.954631Z"
    }
   },
   "id": "37a8110484353bfd"
  },
  {
   "cell_type": "markdown",
   "source": [
    "Determine absolute magnitudes while correcting for foreground extinction. The data used here includes:\n",
    " \n",
    "- Petrosian magnitude or ([petroMag](https://skyserver.sdss.org/dr7/en/help/docs/algorithm.asp?key=mag_petro)), which is the apparent magnitude that is observed from the Earth. It represents the brightness of an object as seen from our location without any corrections.\n",
    "\n",
    "- Extinction Corrections or ([extinction](https://skyserver.sdss.org/dr7/en/help/docs/algorithm.asp#E), which is a term that accounts for the extinction of light due to interstellar dust and other factors. Extinction causes the observed magnitude to be fainter than the intrinsic magnitude of the object.\n",
    "\n",
    "By subtracting the extinction below, you are correcting for this effect, effectively converting the apparent magnitude to an unextincted apparent magnitude."
   ],
   "metadata": {
    "collapsed": false
   },
   "id": "8f997b20d95853c0"
  },
  {
   "cell_type": "code",
   "execution_count": null,
   "outputs": [],
   "source": [
    "# in Mpc, m-M = 5 log d + 25\n",
    "r=dr18['petroMag_r']-dr18['extinction_r']-5*np.log10(dist)-25\n"
   ],
   "metadata": {
    "collapsed": false,
    "ExecuteTime": {
     "end_time": "2023-11-03T01:56:51.981178Z",
     "start_time": "2023-11-03T01:56:51.969776Z"
    }
   },
   "id": "1af07a7a1ed8c3fb"
  },
  {
   "cell_type": "markdown",
   "source": [
    "Let's plot an r-band luminosity function, but keep in mind it is uncorrected at this stage...\n"
   ],
   "metadata": {
    "collapsed": false
   },
   "id": "6dfa898a87cf414a"
  },
  {
   "cell_type": "code",
   "execution_count": null,
   "outputs": [],
   "source": [
    "out=plt.hist(r,bins=np.arange(-25,-16.3,0.25),histtype='step')\n",
    "plt.xlim(-25,-16.5)\n",
    "plt.xlabel('$M_r$')\n",
    "plt.ylabel('Number of galaxies (uncorrected)')"
   ],
   "metadata": {
    "collapsed": false,
    "ExecuteTime": {
     "end_time": "2023-11-03T03:42:35.335147Z",
     "start_time": "2023-11-03T03:42:35.237787Z"
    }
   },
   "id": "96d193f6db4fb78b"
  },
  {
   "cell_type": "markdown",
   "source": [
    "When you plot a histogram of galaxies by magnitude without any correction, you're essentially representing the observed distribution of galaxies in apparent magnitude space. This is similar to the situation seen in mass versus redshift plots, like in the ZFOURGE survey, where we saw low-mass galaxies can be underrepresented. Similarly, in magnitude histograms, we may miss the low-luminosity galaxies. This happens because an object's apparent magnitude is inversely affected by its distance from the observer. The farther away a galaxy is, the dimmer it appears. As a result, the histogram is skewed towards brighter magnitudes. To correct for this distance-induced bias, we need to account for the varying distances to galaxies in our sample. This is where the 1/Vmax method comes into play.\n",
    "\n",
    "\n",
    "The 1/Vmax method aims to correct for these biases by accounting for the varying volumes within which galaxies can be observed. It calculates the maximum observable volume (Vmax) for each galaxy in your dataset, considering the selection limits of your survey. Then, it uses this volume as a weight to re-balance the galaxies in your histogram. In essence, it evens out the contributions of galaxies at different distances, allowing you to recover a more accurate representation of the intrinsic luminosity function. This correction is crucial for understanding the true distribution of galaxies' intrinsic properties and for making meaningful comparisons between different datasets and cosmological models.\n",
    "\n",
    " "
   ],
   "metadata": {
    "collapsed": false
   },
   "id": "83b9fa971e876c55"
  },
  {
   "cell_type": "markdown",
   "source": [
    "Below, we calculate and visualise the volume of space probed by the survey as a function of absolute magnitude, taking into account magnitude limits and our redshift constraints. "
   ],
   "metadata": {
    "collapsed": false
   },
   "id": "8df964bd4cf6d4f7"
  },
  {
   "cell_type": "code",
   "execution_count": null,
   "outputs": [],
   "source": [
    "# center our histogram bins into mabs\n",
    "mabs=out[1][0:-1]+0.05\n",
    "# apparent magnitude limit of SDSS\n",
    "mlim=17.77 \n",
    "# use the mlim and mabs to determine the maximum distance\n",
    "dmax=10**((mlim-mabs-25)/5)\n",
    "# set a maximum distance of zmax=0.05 (based on our SQL selection criteria)\n",
    "dmax[dmax>zmax*c/h0] = zmax*c/h0\n",
    "# sets a minimum distance of zmin=0.015 (based on our SQL selection criteria)\n",
    "dmin=.015*3.e5/70\n",
    "print(dmin,mlim-5*np.log10(dmin)-25)\n",
    "# volume probed as a function of mabs\n",
    "vol = (dmax**3-dmin**3)\n",
    "\n",
    "# Plot the volume probed as a function of mabs\n",
    "plt.plot(mabs,vol)\n",
    "plt.xlim(-25,-16.5)\n",
    "plt.yscale('log')\n",
    "plt.xlabel('$M_r$')\n",
    "plt.ylabel('Volume probed')\n",
    "plt.grid()"
   ],
   "metadata": {
    "collapsed": false,
    "ExecuteTime": {
     "end_time": "2023-11-03T03:42:23.019848Z",
     "start_time": "2023-11-03T03:42:22.862923Z"
    }
   },
   "id": "4057812cbd9329f0"
  },
  {
   "cell_type": "markdown",
   "source": [
    "We then use this volume to correct our histogram of galaxies by absolute magnitude."
   ],
   "metadata": {
    "collapsed": false
   },
   "id": "be084be78fd0123f"
  },
  {
   "cell_type": "code",
   "execution_count": null,
   "outputs": [],
   "source": [
    "# corrected luminosity function\n",
    "lf=out[0]/vol\n",
    "plt.plot(mabs,lf)\n",
    "\n",
    "plt.xlim(-25,-16.5)\n",
    "plt.yscale('log')\n",
    "plt.xlabel('$M_r$')\n",
    "plt.ylabel('$\\phi$')"
   ],
   "metadata": {
    "collapsed": false,
    "ExecuteTime": {
     "end_time": "2023-11-03T03:41:42.114795Z",
     "start_time": "2023-11-03T03:41:41.891125Z"
    }
   },
   "id": "c7ac49246460df2"
  },
  {
   "cell_type": "code",
   "execution_count": null,
   "outputs": [],
   "source": [
    "# create a scatter plot of the luminosity function\n",
    "plt.scatter(mabs, lf, label='Luminosity Function')\n",
    "\n",
    "plt.xlim(-25, -16.5)\n",
    "plt.ylim(5e-8, 2e-3) \n",
    "plt.yscale('log')\n",
    "plt.xlabel('$M_r$')\n",
    "plt.ylabel('$\\phi$')\n",
    "plt.grid(True)\n",
    "plt.legend()\n",
    "plt.show()"
   ],
   "metadata": {
    "collapsed": false,
    "ExecuteTime": {
     "end_time": "2023-11-03T03:50:44.835690Z",
     "start_time": "2023-11-03T03:50:44.539875Z"
    }
   },
   "id": "7e5c1c6652b16a25"
  },
  {
   "cell_type": "markdown",
   "source": [
    "Pause here. Perhaps you want to export the data for analysis elsewhere? You can do this by copying the data to the clipboard using the below."
   ],
   "metadata": {
    "collapsed": false
   },
   "id": "8cc6248b36a4dc86"
  },
  {
   "cell_type": "code",
   "execution_count": null,
   "outputs": [],
   "source": [
    "\n",
    "data_dict = {'Absolute Magnitude (M_r)': mabs, 'Weighted Counts': lf}\n",
    "df = pd.DataFrame(data_dict)\n",
    "# Copy the DataFrame to the clipboard\n",
    "df.to_clipboard(index=False, header=True)"
   ],
   "metadata": {
    "collapsed": false,
    "ExecuteTime": {
     "end_time": "2023-11-03T03:47:21.507971Z",
     "start_time": "2023-11-03T03:47:21.431895Z"
    }
   },
   "id": "9ea66795e616f20a"
  },
  {
   "cell_type": "markdown",
   "source": [
    "The Schechter function gives the number of galaxies per unit magnitude (or luminsoity), $ \\phi(M)dM $. Fitting a Schechter function to the corrected luminosity function is a common approach. The Schechter function is a mathematical model that describes the distribution of magnitudes (or luminosities) of galaxies in the universe. It consists of three parameters: $ \\phi * $ (the characteristic density), $ \\alpha $ (the faint-end slope), and $ M* $ (the characteristic magnitude). By fitting a Schechter function to the observed luminosity function, we can characterize the intrinsic properties of galaxy populations, such as their distribution of magnitudes and the presence of different galaxy types.\n",
    "\n",
    "The fitting process involves adjusting the Schechter parameters to best match the observed data, allowing us to estimate the characteristic values that describe the magnitude distribution in the studied region of the universe. For more information, be sure to review the provided [PDF and recording](https://canvas.qut.edu.au/courses/13966/pages/luminosity-functions?module_item_id=1472015). "
   ],
   "metadata": {
    "collapsed": false
   },
   "id": "18c83e93fe23d130"
  },
  {
   "cell_type": "markdown",
   "source": [
    "We now calculate and visualise a Schechter function fit to our luminosity function represented in magnitudes, both with and without data point filtering based on the Mabs value."
   ],
   "metadata": {
    "collapsed": false
   },
   "id": "22b434822a24527e"
  },
  {
   "cell_type": "code",
   "execution_count": null,
   "outputs": [],
   "source": [
    "# Define the Schechter function\n",
    "def schechter(m,mstar=-21,alpha=-1,phistar=1) :\n",
    "    return phistar*10.**(-0.4*(alpha+1)*(m-mstar))*np.exp(-10.**(-0.4*(m-mstar)))\n",
    "    \n",
    "# Plot the corrected LF\n",
    "plt.scatter(mabs, lf, label='Luminosity Function')\n",
    "plt.xlim(-25, -16.5)\n",
    "plt.ylim(5e-8, 2e-3)\n",
    "plt.yscale('log')\n",
    "\n",
    "# Do the fit with curve_fit\n",
    "p0 = [-21, -1, 1]   # Starting guess for fit\n",
    "from scipy.optimize import curve_fit\n",
    "pars = curve_fit(schechter, mabs, lf, p0=p0)\n",
    "print('Schechter fit:')\n",
    "print('Mstar: {:f} \\n alpha: {:f} \\n  phistar: {:f}'.format(*pars[0]))\n",
    "\n",
    "# Plot the Schechter fit\n",
    "plt.plot(mabs, schechter(mabs, *pars[0]), 'r', label='Schechter Fit')\n",
    "plt.xlabel('M_{abs}')\n",
    "plt.ylabel('$\\phi$')\n",
    "plt.legend()\n",
    "plt.show()"
   ],
   "metadata": {
    "collapsed": false,
    "ExecuteTime": {
     "end_time": "2023-11-03T04:07:59.749332Z",
     "start_time": "2023-11-03T04:07:59.464038Z"
    }
   },
   "id": "998ddcaf21cc6123"
  },
  {
   "cell_type": "code",
   "execution_count": null,
   "outputs": [],
   "source": [
    "# Try again, removing data with Mabs < -23.5\n",
    "plt.figure()\n",
    "gd = np.where(mabs > -23.5)[0]\n",
    "pars = curve_fit(schechter, mabs[gd], lf[gd], p0=p0)\n",
    "print('Schechter fit after removing brightest bins:')\n",
    "print('Mstar: {:f} \\n alpha: {:f} \\n  phistar: {:f}'.format(*pars[0]))\n",
    "\n",
    "# Plot the corrected LF after removing brightest bins\n",
    "plt.scatter(mabs[gd], lf[gd], label='Luminosity Function')\n",
    "plt.xlim(-25, -16.5)\n",
    "plt.ylim(5e-8, 2e-3)\n",
    "plt.yscale('log')\n",
    "\n",
    "# Plot the Schechter fit \n",
    "plt.plot(mabs[gd], schechter(mabs[gd], *pars[0]), 'r', label='Schechter Fit')\n",
    "plt.xlabel('M_{abs}')\n",
    "plt.ylabel('$\\phi$')\n",
    "plt.legend()\n",
    "plt.show()"
   ],
   "metadata": {
    "collapsed": false,
    "ExecuteTime": {
     "end_time": "2023-11-03T04:08:24.687181Z",
     "start_time": "2023-11-03T04:08:24.323834Z"
    }
   },
   "id": "6b8e3e1f07f956b3"
  },
  {
   "cell_type": "markdown",
   "source": [
    "The parameter values provide insights into the characteristics of the galaxy population represented by our luminosity function. Here are some conclusions you can draw from these values:\n",
    "\n",
    "Characteristic Magnitude ($ M* $ ): The $ M* $ value of approximately -21.67 represents the characteristic magnitude at which the luminosity function has a peak (does not necessarily coincide with the peak magnitude). This suggests that galaxies tend to cluster around this particular magnitude in the studied region of the universe.\n",
    "\n",
    "Faint-End Slope ($ \\alpha $): The $ \\alpha $ value of approximately -1.25 describes the faint-end slope of the luminosity function. A value less than -1 indicates a steep drop in the number of faint galaxies, which is typical for galaxy populations where the number of low-luminosity galaxies is significantly smaller than brighter ones.\n",
    "\n",
    "Characteristic Density ($ \\phi * $): The $ \\phi * $ value of approximately 0.000338 represents the characteristic density of galaxies per unit magnitude. It indicates the overall density of galaxies in the studied region, with lower values suggesting a sparser distribution."
   ],
   "metadata": {
    "collapsed": false
   },
   "id": "9db5386b14b215b7"
  },
  {
   "cell_type": "markdown",
   "source": [
    "The Schechter parameters allow you to quantify and describe the underlying distribution of galaxy magnitudes, shedding light on the characteristics and diversity of galaxy populations in the observed part of the universe. Understanding these parameters can serve as a foundation for further analysis. For example, you might consider splitting the sample between red and blue galaxies to investigate differences in the distribution between older and younger stellar populations. Exploring such distinctions can offer deeper insights into the evolutionary processes and demographics of galaxies in different cosmic environments. Additionally, you can use these parameters to make meaningful comparisons with theoretical models and observations from other surveys, contributing to a more comprehensive understanding of the universe's luminosity function."
   ],
   "metadata": {
    "collapsed": false
   },
   "id": "829c043fd130d1e4"
  },
  {
   "cell_type": "code",
   "execution_count": null,
   "outputs": [],
   "source": [],
   "metadata": {
    "collapsed": false
   },
   "id": "6e3f0770ae03c7ca"
  }
 ],
 "metadata": {
  "kernelspec": {
   "display_name": "Python 3",
   "language": "python",
   "name": "python3"
  },
  "language_info": {
   "codemirror_mode": {
    "name": "ipython",
    "version": 2
   },
   "file_extension": ".py",
   "mimetype": "text/x-python",
   "name": "python",
   "nbconvert_exporter": "python",
   "pygments_lexer": "ipython2",
   "version": "2.7.6"
  }
 },
 "nbformat": 4,
 "nbformat_minor": 5
}
