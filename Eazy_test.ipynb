{
 "cells": [
  {
   "cell_type": "markdown",
   "source": [
    "OURunning Through EAZY Py and producing fitting templates to a given ZFOURGE catalogue"
   ],
   "metadata": {
    "collapsed": false
   }
  },
  {
   "cell_type": "code",
   "execution_count": 4,
   "metadata": {},
   "outputs": [
    {
     "name": "stdout",
     "output_type": "stream",
     "text": [
      "EAZYCODE = None\n",
      "\n",
      "Mon Apr 29 09:00:58 2024\n",
      "\n",
      "3.10.13 | packaged by Anaconda, Inc. | (main, Sep 11 2023, 13:24:38) [MSC v.1916 64 bit (AMD64)]\n",
      "\n",
      "               numpy : 1.22.3\n",
      "               scipy : 1.7.3\n",
      "          matplotlib : 3.8.0\n",
      "             astropy : 5.3.4\n",
      "                eazy : 0.6.8\n"
     ]
    }
   ],
   "source": [
    "\n",
    "%matplotlib inline\n",
    "\n",
    "import os\n",
    "import glob\n",
    "import matplotlib.pyplot as plt\n",
    "import warnings\n",
    "import numpy as np\n",
    "import pandas as pd\n",
    "from astropy.utils.exceptions import AstropyWarning\n",
    "import eazy.hdf5\n",
    "import time\n",
    "import importlib\n",
    "import sys\n",
    "import eazy\n",
    "import astropy.stats\n",
    "\n",
    "np.seterr(all='ignore')\n",
    "warnings.simplefilter('ignore', category=AstropyWarning)\n",
    "print('EAZYCODE = '+ str(os.getenv('EAZYCODE')) + '\\n')\n",
    "\n",
    "print(time.ctime() + '\\n')\n",
    "\n",
    "print(sys.version + '\\n')\n",
    "\n",
    "for module in ['numpy', 'scipy', 'matplotlib','astropy','eazy']:\n",
    "    mod = importlib.import_module(module)\n",
    "    print('{0:>20} : {1}'.format(module, mod.__version__))"
   ]
  },
  {
   "cell_type": "markdown",
   "metadata": {
    "collapsed": false,
    "jupyter": {
     "outputs_hidden": false
    }
   },
   "source": []
  },
  {
   "cell_type": "markdown",
   "source": [
    "Basic Settings Cell, can find more in depth changes further down"
   ],
   "metadata": {
    "collapsed": false
   }
  },
  {
   "cell_type": "code",
   "execution_count": 5,
   "outputs": [],
   "source": [
    "# Load ZFOURGE catalogue from local drive\n",
    "test_title = 'test_2' # title of the test, eg. 1,2, A, B, Initial.\n",
    "field = 'cdfs' #'cdfs', 'cosmos', or 'uds'\n",
    "\n",
    "# Choose ID key for the catalogue\n",
    "# A key designates what type of test you want to occur\n",
    "id_key = 'low' # normal, high or low\n",
    "id_range = {'normal': (0,30910),\n",
    "           'high': (18000,20000),\n",
    "           'low': (6000,10000)}\n",
    "\n",
    "# AGN templates allocation\n",
    "loop_number = 1 # what loop you are on, however in the test ipy this is not used\n",
    "agn_sed = [0,1,2,3,4,5] # AGN templates to be added\n",
    "use_galaxy_templates = True # set to True to use galaxy templates as well"
   ],
   "metadata": {
    "collapsed": false
   }
  },
  {
   "cell_type": "code",
   "execution_count": 6,
   "outputs": [],
   "source": [
    "# finding/creating the output directories\n",
    "\n",
    "# Directories\n",
    "if not os.path.isdir(f'outputs/{field}/{test_title}'):\n",
    "    os.makedirs(f'outputs/{field}/{test_title}')\n",
    "\n",
    "# Where to Save number data\n",
    "output_directory = f'outputs/{field}/{test_title}/{field}_{test_title}_{id_key}_{agn_sed}_{use_galaxy_templates}' # output directory for images\n",
    "key_data_file = f'outputs/{field}/{test_title}/key_data.csv'\n",
    "headings = ['id_key', 'loop_number', 'agn_templates', 'galaxy templates', 'total_obj', 'total_agn', 'total_agn_percent', 'ir_count', 'ir_percent', 'radio_count', 'radio_percent', 'xray_count', 'xray_percent', 'mean_agn_frac', 'count', 'outlier_count', 'nmad_val', 'all_nmad_bin']\n",
    "\n",
    "key_data = pd.DataFrame(columns=headings)\n",
    "if not os.path.isfile(key_data_file):\n",
    "    key_data.to_csv(key_data_file, index=False)\n"
   ],
   "metadata": {
    "collapsed": false
   }
  },
  {
   "cell_type": "markdown",
   "source": [
    "AGN Data Analysis"
   ],
   "metadata": {
    "collapsed": false
   }
  },
  {
   "cell_type": "code",
   "execution_count": 7,
   "outputs": [
    {
     "name": "stdout",
     "output_type": "stream",
     "text": [
      "Total number of objects: 4000\n",
      "Number of IR objects: 8 (26.67%)\n",
      "Number of radio objects: 3 (10.00%)\n",
      "Number of X-ray objects: 21 (70.00%)\n",
      "Total number of AGN: 30 (0.75%)\n"
     ]
    }
   ],
   "source": [
    "# making an agn catalogue with only selected range of objects\n",
    "\n",
    "# Read the catalogue\n",
    "os.getcwd()\n",
    "object_range = id_range[id_key] # range of objects to be selected, determined by the key\n",
    "agn_cat1 = sorted(glob.glob(f'zfourge/{field}/{field}.v?.?.??.cat')) # finds the catalogue\n",
    "agn_cat2 = pd.read_csv(agn_cat1[0])\n",
    "agn_cat_cut = agn_cat2[object_range[0]:object_range[1]] # select a range of objects with considerable content\n",
    "agn_cat_cut.to_csv(f'inputs/cdfs_eazy_test.cat', index=False) # create a new catalogue with the selected objects\n",
    "\n",
    "# Some analysis\n",
    "agn_data1 = glob.glob(f'zfourge/{field}/{field}.v*.agn.*cat')\n",
    "agn_data2 = pd.read_csv(agn_data1[0], sep=\"\\s+\", comment='#', header=None)[object_range[0]:object_range[1]]\n",
    "total_count = object_range[1] - object_range[0] # all objects in the range\n",
    "\n",
    "# total count\n",
    "ids = []\n",
    "for column in agn_data2.columns[1:]:  # Skip the first column (column of IDs)\n",
    "    ids.extend(agn_data2.loc[agn_data2[column] == 1, 0].tolist())\n",
    "ids = list(set(ids))\n",
    "total_agn = len(ids) # all objects in the range that are AGN\n",
    "\n",
    "ir_count = agn_data2[1].value_counts().get(1, 0)\n",
    "ir_percent = ir_count/total_agn\n",
    "radio_count = agn_data2[2].value_counts().get(1, 0)\n",
    "radio_percent = radio_count/total_agn\n",
    "xray_count = agn_data2[3].value_counts().get(1, 0)\n",
    "xray_percent = xray_count/total_agn\n",
    "\n",
    "# print the stats\n",
    "print(f'Total number of objects: {total_count}')\n",
    "print(f'Number of IR objects: {ir_count} ({ir_percent:.2%})')\n",
    "print(f'Number of radio objects: {radio_count} ({radio_percent:.2%})')\n",
    "print(f'Number of X-ray objects: {xray_count} ({xray_percent:.2%})')\n",
    "print(f'Total number of AGN: {total_agn} ({total_agn/total_count:.2%})')"
   ],
   "metadata": {
    "collapsed": false
   }
  },
  {
   "cell_type": "code",
   "execution_count": 8,
   "outputs": [],
   "source": [
    "# Plot of % influence from AGN on each object\n",
    "\n",
    "agn_per_dir = 'inputs/agn_frac.txt' # THIS IS JUST CDFS\n",
    "all_bayes = pd.read_csv(agn_per_dir, sep=\"\\s+\", comment='#')"
   ],
   "metadata": {
    "collapsed": false
   }
  },
  {
   "cell_type": "code",
   "execution_count": 9,
   "outputs": [
    {
     "data": {
      "text/plain": "<Figure size 640x480 with 1 Axes>",
      "image/png": "[encoded data removed]"
     },
     "metadata": {},
     "output_type": "display_data"
    }
   ],
   "source": [
    "agn_frac = all_bayes['bayes.agn.fracAGN'][object_range[0]:object_range[1]] # AGN fraction for each object\n",
    "mean_frac = np.mean(agn_frac)\n",
    "\n",
    "plt.clf()\n",
    "plt.hist(agn_frac, bins=50, alpha=0.5, label='AGN Fraction')\n",
    "\n",
    "plt.xlabel('AGN Fraction')\n",
    "plt.ylabel('Number of Objects')\n",
    "plt.title(f'AGN Fraction Distribution for objects {object_range[0]} to {object_range[1]}')\n",
    "plt.text(0.7,0.9, f'Total AGN: {total_agn}, {total_agn/total_count:.2%}\\n '\n",
    "                  f'Mean AGN Fraction: {mean_frac:.2%}', fontsize=8, horizontalalignment='center', verticalalignment='center', transform=plt.gca().transAxes)\n",
    "plt.savefig(f'outputs/{field}/{test_title}/agn_frac_{field}_{id_key}_{agn_sed}_{use_galaxy_templates}.png')\n",
    "plt.show()"
   ],
   "metadata": {
    "collapsed": false
   }
  },
  {
   "cell_type": "code",
   "execution_count": 10,
   "outputs": [],
   "source": [
    "# Load any templates from the AGN template library\n",
    "\n",
    "temp_param = 'templates/eazy_v1.3.spectra.param' # basic parameter file, no agn templates\n",
    "last_id = 9 # last id in the parameter file\n",
    "empty_param = 'templates/eazy_v1.3_empty.param' # empty parameter file\n",
    "\n",
    "agn_param = 'templates/eazy_v1.3_AGN.param' # parameter file with agn templates\n",
    "\n",
    "# opening the parameter files, and reading the contents\n",
    "with open(temp_param) as f:\n",
    "    original_galaxy = f.read()\n",
    "\n",
    "with open(empty_param) as f:\n",
    "    original_empty = f.read()\n",
    "\n",
    "agn_dir = 'templates/hlsp_agnsedatlas_observed/' # dir with all agn templates\n",
    "agn_temp_all = os.listdir(agn_dir)\n",
    "def agn_template_loader(templates, use_galaxy_templates=False):\n",
    "    if use_galaxy_templates:\n",
    "      copy = original_galaxy\n",
    "      no_of_templates = len(templates)\n",
    "      if no_of_templates == 0:\n",
    "        open(agn_param, 'w').write(copy)\n",
    "        print('No AGN templates added, just using galaxy templates')\n",
    "        return\n",
    "      for i in range(no_of_templates):\n",
    "        id = last_id + i\n",
    "        copy = copy + f'\\n{id}   {agn_dir}{agn_temp_all[templates[i]]}   1.0 0 1.0    '\n",
    "      open(agn_param, 'w').write(copy)\n",
    "      print(f'AGN templates added to the parameter file {agn_param}, {last_id} galaxy templates used')\n",
    "      return\n",
    "    else:\n",
    "      copy = original_empty\n",
    "      no_of_templates = len(templates)\n",
    "      if no_of_templates == 0:\n",
    "        open(agn_param, 'w').write(copy)\n",
    "        print('No AGN templates added, no templates used')\n",
    "        return\n",
    "      for i in range(no_of_templates):\n",
    "        id = 0 + i\n",
    "        copy = copy + f'\\n{id}   {agn_dir}{agn_temp_all[templates[i]]}   1.0 0 1.0    '\n",
    "      open(agn_param, 'w').write(copy)\n",
    "      print(f'AGN templates added to the parameter file {agn_param}, no galaxy templates used')\n",
    "      return"
   ],
   "metadata": {
    "collapsed": false
   }
  },
  {
   "cell_type": "code",
   "execution_count": 11,
   "metadata": {
    "collapsed": false,
    "jupyter": {
     "outputs_hidden": false
    }
   },
   "outputs": [
    {
     "name": "stdout",
     "output_type": "stream",
     "text": [
      "AGN templates added to the parameter file templates/eazy_v1.3_AGN.param, 9 galaxy templates used\n"
     ]
    }
   ],
   "source": [
    "# EAZY parameters\n",
    "\n",
    "# following files should be in the same dir as the project\n",
    "param_file = f'base.param' #base parameter file, does not include all information\n",
    "translate_file = glob.glob(f'zfourge/{field}/eazy/{field}.*.translate')\n",
    "\n",
    "agn_template_loader(agn_sed, use_galaxy_templates=use_galaxy_templates) # loads the chosen AGN templates to the parameter file\n",
    "\n",
    "params = {} # setting field specific parameters\n",
    "params['Z_STEP'] = 0.05 # redshift step, defines the precision of each fit\n",
    "\n",
    "#inputs\n",
    "params['TEMPLATES_FILE'] = 'templates/eazy_v1.3_AGN.param' # parameter file containing which templates will be used\n",
    "params['CACHE_FILE'] = f'zfourge/{field}/{field}.tempfilt'\n",
    "params['CATALOG_FILE'] = f'inputs/{field}_eazy_test.cat' # for cut catalogue created in the earlier cell\n",
    "\n",
    "#outputs\n",
    "params['MAIN_OUTPUT_FILE'] = output_directory # output directory set earlier\n"
   ]
  },
  {
   "cell_type": "code",
   "execution_count": 12,
   "outputs": [
    {
     "name": "stdout",
     "output_type": "stream",
     "text": [
      "Read default param file: base.param\n",
      "Read CATALOG_FILE: inputs/cdfs_eazy_test.cat\n",
      "   >>> NOBJ = 4000\n",
      "f_IRAC_80 e_IRAC_80 ( 21): IRAC/irac_tr4_2004-08-09.dat\n",
      "f_IRAC_58 e_IRAC_58 ( 20): IRAC/irac_tr3_2004-08-09.dat\n",
      "f_IRAC_45 e_IRAC_45 ( 19): IRAC/irac_tr2_2004-08-09.dat\n",
      "f_IRAC_36 e_IRAC_36 ( 18): IRAC/irac_tr1_2004-08-09.dat\n",
      "f_Ks e_Ks (255): FOURSTAR/Ks_cam_optics_sky.txt\n",
      "f_KsHI e_KsHI (269): VLT/hawki_k_ETC.dat\n",
      "f_J1 e_J1 (249): FOURSTAR/J1_cam_optics_sky.txt\n",
      "f_J2 e_J2 (250): FOURSTAR/J2_cam_optics_sky.txt\n",
      "f_J3 e_J3 (251): FOURSTAR/J3_cam_optics_sky.txt\n",
      "f_Hs e_Hs (254): FOURSTAR/Hshort_cam_optics_sky.txt\n",
      "f_Hl e_Hl (253): FOURSTAR/Hlong_cam_optics_sky.txt\n",
      "f_U e_U (103): ESO/vimos_u.res\n",
      "f_B e_B (  1): hst/ACS_update_sep07/wfc_f435w_t77.dat\n",
      "f_V e_V (  4): hst/ACS_update_sep07/wfc_f606w_t77.dat\n",
      "f_R e_R (260): ESO/VIMOS/R.dat\n",
      "f_I e_I (  5): hst/ACS_update_sep07/wfc_f775w_t77.dat\n",
      "f_Z e_Z (  7): hst/ACS_update_sep07/wfc_f850lp_t77.dat\n",
      "f_F125W e_F125W (203): hst/wfc3/IR/f125w.dat\n",
      "f_F140W e_F140W (204): hst/wfc3/IR/f140w.dat\n",
      "f_F160W e_F160W (205): hst/wfc3/IR/f160w.dat\n",
      "f_F098M e_F098M (201): hst/wfc3/IR/f098m.dat\n",
      "f_F105W e_F105W (202): hst/wfc3/IR/f105w.dat\n",
      "f_F814W e_F814W (239): hst/ACS_update_sep07/wfc_f814w_t81.dat\n",
      "f_IA484 e_IA484 (184): Subaru_MB/IA484.dat\n",
      "f_IA527 e_IA527 (186): Subaru_MB/IA527.dat\n",
      "f_IA574 e_IA574 (188): Subaru_MB/IA574.dat\n",
      "f_IA598 e_IA598 (189): Subaru_MB/IA598.dat\n",
      "f_IA624 e_IA624 (190): Subaru_MB/IA624.dat\n",
      "f_IA651 e_IA651 (191): Subaru_MB/IA651.dat\n",
      "f_IA679 e_IA679 (192): Subaru_MB/IA679.dat\n",
      "f_IA738 e_IA738 (194): Subaru_MB/IA738.dat\n",
      "f_IA767 e_IA767 (195): Subaru_MB/IA768.dat\n",
      "f_IA797 e_IA797 (196): Subaru_MB/IA797.dat\n",
      "f_IA856 e_IA856 (198): Subaru_MB/IA856.dat\n",
      "f_WFI_V e_WFI_V (291): ESO/WFI-V89_843.raw\n",
      "f_WFI_Rc e_WFI_Rc (292): ESO/WFI-Rc162_844.raw\n",
      "f_WFI_U38 e_WFI_U38 (107): ESO/wfi_BB_U38_ESO841.res\n",
      "f_tenisK e_tenisK (222): WIRCam/cfh8302_Ks.txt\n",
      "f_Ksall e_Ksall ( 33): ESO-NTT/SOFI_Ks.dat\n",
      "Set sys_err = 0.00 (positive=True)\n",
      "Read PRIOR_FILE:  templates/prior_K_TAO.dat\n",
      "Template grid: templates/eazy_v1.3_AGN.param (this may take some time)\n"
     ]
    },
    {
     "name": "stderr",
     "output_type": "stream",
     "text": [
      "  0%|          | 0/15 [00:17<?, ?it/s]\n"
     ]
    },
    {
     "ename": "KeyboardInterrupt",
     "evalue": "",
     "output_type": "error",
     "traceback": [
      "\u001B[1;31m---------------------------------------------------------------------------\u001B[0m",
      "\u001B[1;31mKeyboardInterrupt\u001B[0m                         Traceback (most recent call last)",
      "Cell \u001B[1;32mIn[12], line 3\u001B[0m\n\u001B[0;32m      1\u001B[0m \u001B[38;5;66;03m# Run EAZY with parameters\u001B[39;00m\n\u001B[1;32m----> 3\u001B[0m \u001B[38;5;28mself\u001B[39m \u001B[38;5;241m=\u001B[39m \u001B[43meazy\u001B[49m\u001B[38;5;241;43m.\u001B[39;49m\u001B[43mphotoz\u001B[49m\u001B[38;5;241;43m.\u001B[39;49m\u001B[43mPhotoZ\u001B[49m\u001B[43m(\u001B[49m\u001B[43mparam_file\u001B[49m\u001B[38;5;241;43m=\u001B[39;49m\u001B[43mparam_file\u001B[49m\u001B[43m,\u001B[49m\u001B[43m \u001B[49m\u001B[43mtranslate_file\u001B[49m\u001B[38;5;241;43m=\u001B[39;49m\u001B[43mtranslate_file\u001B[49m\u001B[43m[\u001B[49m\u001B[38;5;241;43m0\u001B[39;49m\u001B[43m]\u001B[49m\u001B[43m,\u001B[49m\u001B[43m \u001B[49m\u001B[43mzeropoint_file\u001B[49m\u001B[38;5;241;43m=\u001B[39;49m\u001B[38;5;28;43;01mNone\u001B[39;49;00m\u001B[43m,\u001B[49m\n\u001B[0;32m      4\u001B[0m \u001B[43m                         \u001B[49m\u001B[43mparams\u001B[49m\u001B[38;5;241;43m=\u001B[39;49m\u001B[43mparams\u001B[49m\u001B[43m,\u001B[49m\u001B[43m \u001B[49m\u001B[43mload_prior\u001B[49m\u001B[38;5;241;43m=\u001B[39;49m\u001B[38;5;28;43;01mTrue\u001B[39;49;00m\u001B[43m,\u001B[49m\u001B[43m \u001B[49m\u001B[43mload_products\u001B[49m\u001B[38;5;241;43m=\u001B[39;49m\u001B[38;5;28;43;01mFalse\u001B[39;49;00m\u001B[43m)\u001B[49m\n",
      "File \u001B[1;32m~\\anaconda3\\envs\\SEDTemplate_conda\\lib\\site-packages\\eazy\\photoz.py:348\u001B[0m, in \u001B[0;36mPhotoZ.__init__\u001B[1;34m(self, param_file, translate_file, zeropoint_file, load_prior, load_products, params, n_proc, cosmology, compute_tef_lnp, tempfilt, tempfilt_data, random_seed, random_draws, **kwargs)\u001B[0m\n\u001B[0;32m    345\u001B[0m \u001B[38;5;28mprint\u001B[39m(msg\u001B[38;5;241m.\u001B[39mformat(\u001B[38;5;28mself\u001B[39m\u001B[38;5;241m.\u001B[39mparam[\u001B[38;5;124m'\u001B[39m\u001B[38;5;124mTEMPLATES_FILE\u001B[39m\u001B[38;5;124m'\u001B[39m]))\n\u001B[0;32m    347\u001B[0m t0 \u001B[38;5;241m=\u001B[39m time\u001B[38;5;241m.\u001B[39mtime()\n\u001B[1;32m--> 348\u001B[0m \u001B[38;5;28mself\u001B[39m\u001B[38;5;241m.\u001B[39mtempfilt \u001B[38;5;241m=\u001B[39m \u001B[43mTemplateGrid\u001B[49m\u001B[43m(\u001B[49m\u001B[38;5;28;43mself\u001B[39;49m\u001B[38;5;241;43m.\u001B[39;49m\u001B[43mzgrid\u001B[49m\u001B[43m,\u001B[49m\u001B[43m \u001B[49m\u001B[38;5;28;43mself\u001B[39;49m\u001B[38;5;241;43m.\u001B[39;49m\u001B[43mtemplates\u001B[49m\u001B[43m,\u001B[49m\u001B[43m \u001B[49m\n\u001B[0;32m    349\u001B[0m \u001B[43m                            \u001B[49m\u001B[43mRES\u001B[49m\u001B[38;5;241;43m=\u001B[39;49m\u001B[38;5;28;43mself\u001B[39;49m\u001B[38;5;241;43m.\u001B[39;49m\u001B[43mparam\u001B[49m\u001B[43m[\u001B[49m\u001B[38;5;124;43m'\u001B[39;49m\u001B[38;5;124;43mFILTERS_RES\u001B[39;49m\u001B[38;5;124;43m'\u001B[39;49m\u001B[43m]\u001B[49m\u001B[43m,\u001B[49m\u001B[43m \u001B[49m\n\u001B[0;32m    350\u001B[0m \u001B[43m                            \u001B[49m\u001B[43mf_numbers\u001B[49m\u001B[38;5;241;43m=\u001B[39;49m\u001B[38;5;28;43mself\u001B[39;49m\u001B[38;5;241;43m.\u001B[39;49m\u001B[43mf_numbers\u001B[49m\u001B[43m,\u001B[49m\u001B[43m \u001B[49m\n\u001B[0;32m    351\u001B[0m \u001B[43m                            \u001B[49m\u001B[43madd_igm\u001B[49m\u001B[38;5;241;43m=\u001B[39;49m\u001B[38;5;28;43mself\u001B[39;49m\u001B[38;5;241;43m.\u001B[39;49m\u001B[43mparam\u001B[49m\u001B[43m[\u001B[49m\u001B[38;5;124;43m'\u001B[39;49m\u001B[38;5;124;43mIGM_SCALE_TAU\u001B[39;49m\u001B[38;5;124;43m'\u001B[39;49m\u001B[43m]\u001B[49m\u001B[43m,\u001B[49m\u001B[43m \u001B[49m\n\u001B[0;32m    352\u001B[0m \u001B[43m                        \u001B[49m\u001B[43mgalactic_ebv\u001B[49m\u001B[38;5;241;43m=\u001B[39;49m\u001B[38;5;28;43mself\u001B[39;49m\u001B[38;5;241;43m.\u001B[39;49m\u001B[43mMW_EBV\u001B[49m\u001B[43m,\u001B[49m\u001B[43m \u001B[49m\n\u001B[0;32m    353\u001B[0m \u001B[43m                        \u001B[49m\u001B[43mEb\u001B[49m\u001B[38;5;241;43m=\u001B[39;49m\u001B[38;5;28;43mself\u001B[39;49m\u001B[38;5;241;43m.\u001B[39;49m\u001B[43mparam\u001B[49m\u001B[43m[\u001B[49m\u001B[38;5;124;43m'\u001B[39;49m\u001B[38;5;124;43mSCALE_2175_BUMP\u001B[39;49m\u001B[38;5;124;43m'\u001B[39;49m\u001B[43m]\u001B[49m\u001B[43m,\u001B[49m\u001B[43m \u001B[49m\n\u001B[0;32m    354\u001B[0m \u001B[43m                        \u001B[49m\u001B[43mn_proc\u001B[49m\u001B[38;5;241;43m=\u001B[39;49m\u001B[43mn_proc\u001B[49m\u001B[43m,\u001B[49m\u001B[43m \u001B[49m\u001B[43mcosmology\u001B[49m\u001B[38;5;241;43m=\u001B[39;49m\u001B[38;5;28;43mself\u001B[39;49m\u001B[38;5;241;43m.\u001B[39;49m\u001B[43mcosmology\u001B[49m\u001B[43m,\u001B[49m\u001B[43m \u001B[49m\n\u001B[0;32m    355\u001B[0m \u001B[43m                        \u001B[49m\u001B[43marray_dtype\u001B[49m\u001B[38;5;241;43m=\u001B[39;49m\u001B[38;5;28;43mself\u001B[39;49m\u001B[38;5;241;43m.\u001B[39;49m\u001B[43mARRAY_DTYPE\u001B[49m\u001B[43m,\u001B[49m\u001B[43m \u001B[49m\n\u001B[0;32m    356\u001B[0m \u001B[43m                        \u001B[49m\u001B[43mtempfilt_data\u001B[49m\u001B[38;5;241;43m=\u001B[39;49m\u001B[43mtempfilt_data\u001B[49m\u001B[43m)\u001B[49m\n\u001B[0;32m    357\u001B[0m t1 \u001B[38;5;241m=\u001B[39m time\u001B[38;5;241m.\u001B[39mtime()\n\u001B[0;32m    358\u001B[0m \u001B[38;5;28mprint\u001B[39m(\u001B[38;5;124m'\u001B[39m\u001B[38;5;124mProcess templates: \u001B[39m\u001B[38;5;132;01m{0:.3f}\u001B[39;00m\u001B[38;5;124m s\u001B[39m\u001B[38;5;124m'\u001B[39m\u001B[38;5;241m.\u001B[39mformat(t1\u001B[38;5;241m-\u001B[39mt0))\n",
      "File \u001B[1;32m~\\anaconda3\\envs\\SEDTemplate_conda\\lib\\site-packages\\eazy\\photoz.py:5467\u001B[0m, in \u001B[0;36mTemplateGrid.__init__\u001B[1;34m(self, zgrid, templates, RES, f_numbers, add_igm, galactic_ebv, Eb, n_proc, interpolator, filters, verbose, cosmology, array_dtype, tempfilt_data)\u001B[0m\n\u001B[0;32m   5464\u001B[0m \u001B[38;5;66;03m#pool.join()\u001B[39;00m\n\u001B[0;32m   5466\u001B[0m \u001B[38;5;28;01mfor\u001B[39;00m res \u001B[38;5;129;01min\u001B[39;00m tqdm(jobs):\n\u001B[1;32m-> 5467\u001B[0m     itemp, tf_i \u001B[38;5;241m=\u001B[39m \u001B[43mres\u001B[49m\u001B[38;5;241;43m.\u001B[39;49m\u001B[43mget\u001B[49m\u001B[43m(\u001B[49m\u001B[43mtimeout\u001B[49m\u001B[38;5;241;43m=\u001B[39;49m\u001B[43mMULTIPROCESSING_TIMEOUT\u001B[49m\u001B[43m)\u001B[49m\n\u001B[0;32m   5468\u001B[0m     \u001B[38;5;28;01mif\u001B[39;00m verbose \u001B[38;5;241m>\u001B[39m \u001B[38;5;241m1\u001B[39m:\n\u001B[0;32m   5469\u001B[0m         \u001B[38;5;28mself\u001B[39m\u001B[38;5;241m.\u001B[39mtempfilt[:,itemp,:] \u001B[38;5;241m=\u001B[39m tf_i        \n",
      "File \u001B[1;32m~\\anaconda3\\envs\\SEDTemplate_conda\\lib\\multiprocessing\\pool.py:768\u001B[0m, in \u001B[0;36mApplyResult.get\u001B[1;34m(self, timeout)\u001B[0m\n\u001B[0;32m    767\u001B[0m \u001B[38;5;28;01mdef\u001B[39;00m \u001B[38;5;21mget\u001B[39m(\u001B[38;5;28mself\u001B[39m, timeout\u001B[38;5;241m=\u001B[39m\u001B[38;5;28;01mNone\u001B[39;00m):\n\u001B[1;32m--> 768\u001B[0m     \u001B[38;5;28;43mself\u001B[39;49m\u001B[38;5;241;43m.\u001B[39;49m\u001B[43mwait\u001B[49m\u001B[43m(\u001B[49m\u001B[43mtimeout\u001B[49m\u001B[43m)\u001B[49m\n\u001B[0;32m    769\u001B[0m     \u001B[38;5;28;01mif\u001B[39;00m \u001B[38;5;129;01mnot\u001B[39;00m \u001B[38;5;28mself\u001B[39m\u001B[38;5;241m.\u001B[39mready():\n\u001B[0;32m    770\u001B[0m         \u001B[38;5;28;01mraise\u001B[39;00m \u001B[38;5;167;01mTimeoutError\u001B[39;00m\n",
      "File \u001B[1;32m~\\anaconda3\\envs\\SEDTemplate_conda\\lib\\multiprocessing\\pool.py:765\u001B[0m, in \u001B[0;36mApplyResult.wait\u001B[1;34m(self, timeout)\u001B[0m\n\u001B[0;32m    764\u001B[0m \u001B[38;5;28;01mdef\u001B[39;00m \u001B[38;5;21mwait\u001B[39m(\u001B[38;5;28mself\u001B[39m, timeout\u001B[38;5;241m=\u001B[39m\u001B[38;5;28;01mNone\u001B[39;00m):\n\u001B[1;32m--> 765\u001B[0m     \u001B[38;5;28;43mself\u001B[39;49m\u001B[38;5;241;43m.\u001B[39;49m\u001B[43m_event\u001B[49m\u001B[38;5;241;43m.\u001B[39;49m\u001B[43mwait\u001B[49m\u001B[43m(\u001B[49m\u001B[43mtimeout\u001B[49m\u001B[43m)\u001B[49m\n",
      "File \u001B[1;32m~\\anaconda3\\envs\\SEDTemplate_conda\\lib\\threading.py:607\u001B[0m, in \u001B[0;36mEvent.wait\u001B[1;34m(self, timeout)\u001B[0m\n\u001B[0;32m    605\u001B[0m signaled \u001B[38;5;241m=\u001B[39m \u001B[38;5;28mself\u001B[39m\u001B[38;5;241m.\u001B[39m_flag\n\u001B[0;32m    606\u001B[0m \u001B[38;5;28;01mif\u001B[39;00m \u001B[38;5;129;01mnot\u001B[39;00m signaled:\n\u001B[1;32m--> 607\u001B[0m     signaled \u001B[38;5;241m=\u001B[39m \u001B[38;5;28;43mself\u001B[39;49m\u001B[38;5;241;43m.\u001B[39;49m\u001B[43m_cond\u001B[49m\u001B[38;5;241;43m.\u001B[39;49m\u001B[43mwait\u001B[49m\u001B[43m(\u001B[49m\u001B[43mtimeout\u001B[49m\u001B[43m)\u001B[49m\n\u001B[0;32m    608\u001B[0m \u001B[38;5;28;01mreturn\u001B[39;00m signaled\n",
      "File \u001B[1;32m~\\anaconda3\\envs\\SEDTemplate_conda\\lib\\threading.py:324\u001B[0m, in \u001B[0;36mCondition.wait\u001B[1;34m(self, timeout)\u001B[0m\n\u001B[0;32m    322\u001B[0m \u001B[38;5;28;01melse\u001B[39;00m:\n\u001B[0;32m    323\u001B[0m     \u001B[38;5;28;01mif\u001B[39;00m timeout \u001B[38;5;241m>\u001B[39m \u001B[38;5;241m0\u001B[39m:\n\u001B[1;32m--> 324\u001B[0m         gotit \u001B[38;5;241m=\u001B[39m \u001B[43mwaiter\u001B[49m\u001B[38;5;241;43m.\u001B[39;49m\u001B[43macquire\u001B[49m\u001B[43m(\u001B[49m\u001B[38;5;28;43;01mTrue\u001B[39;49;00m\u001B[43m,\u001B[49m\u001B[43m \u001B[49m\u001B[43mtimeout\u001B[49m\u001B[43m)\u001B[49m\n\u001B[0;32m    325\u001B[0m     \u001B[38;5;28;01melse\u001B[39;00m:\n\u001B[0;32m    326\u001B[0m         gotit \u001B[38;5;241m=\u001B[39m waiter\u001B[38;5;241m.\u001B[39macquire(\u001B[38;5;28;01mFalse\u001B[39;00m)\n",
      "\u001B[1;31mKeyboardInterrupt\u001B[0m: "
     ]
    }
   ],
   "source": [
    "# Run EAZY with parameters\n",
    "\n",
    "self = eazy.photoz.PhotoZ(param_file=param_file, translate_file=translate_file[0], zeropoint_file=None,\n",
    "                         params=params, load_prior=True, load_products=False)"
   ],
   "metadata": {
    "collapsed": false
   }
  },
  {
   "cell_type": "code",
   "execution_count": null,
   "metadata": {
    "collapsed": false,
    "jupyter": {
     "outputs_hidden": false
    }
   },
   "outputs": [],
   "source": [
    "# Iterative Zero-point corrections\n",
    "\n",
    "NITER = 3 # no. of iterations\n",
    "NBIN = np.minimum(self.NOBJ//100, 180) # no. of bins\n",
    "\n",
    "for iter in range(NITER):\n",
    "    print('Iteration: ', iter)\n",
    "\n",
    "    sn = self.fnu/self.efnu\n",
    "    clip = (sn > 1).sum(axis=1) > 4 # Generally make this higher to ensure reasonable fits\n",
    "    self.iterate_zp_templates(idx=self.idx[clip], update_templates=False,\n",
    "                              update_zeropoints=True, iter=iter, n_proc=8,\n",
    "                              save_templates=False, error_residuals=False,\n",
    "                              NBIN=NBIN, get_spatial_offset=False)"
   ]
  },
  {
   "cell_type": "code",
   "execution_count": null,
   "outputs": [],
   "source": [
    "# Turn off error corrections derived above\n",
    "self.set_sys_err(positive=True)\n",
    "\n",
    "# Full catalog\n",
    "sample = np.isfinite(self.ZSPEC)\n",
    "\n",
    "# fit_parallel renamed to fit_catalog 14 May 2021\n",
    "self.fit_catalog(self.idx[sample], n_proc=8)\n",
    "\n",
    "# Show zspec-zphot comparison\n",
    "fig = self.zphot_zspec(zmax = 8)\n",
    "fig.savefig(f'outputs/{field}/{test_title}/zphot_zspec_{field}_{id_key}_{agn_sed}_{use_galaxy_templates}.png')"
   ],
   "metadata": {
    "collapsed": false
   }
  },
  {
   "cell_type": "code",
   "execution_count": null,
   "outputs": [],
   "source": [
    "combined = list(zip(self.ZSPEC, self.zbest))\n",
    "filtered = [(x, y) for x, y in combined if x > 0.005 and y > 0.02]\n",
    "sorted_filtered = sorted(filtered, key=lambda x: x[0])\n",
    "zspec_sorted, zphot_sorted = zip(*sorted_filtered)\n",
    "\n",
    "#total NMAD\n",
    "dz = (np.array(zphot_sorted) - np.array(zspec_sorted)) / (1 + np.array(zspec_sorted))\n",
    "total_nmad = astropy.stats.mad_std(dz)\n",
    "print(f'Total NMAD: {total_nmad}')\n",
    "\n",
    "#outliers\n",
    "cat_count = len(dz)\n",
    "outliers = np.abs(dz) >= 0.15 # 0.15 is catostrophic_outlier in eazy code\n",
    "outliers_count = sum(outliers)\n",
    "\n",
    "no_of_bins = 15 # no. of bins\n",
    "\n",
    "logbins_start = np.log10(min(zspec_sorted)) # using logarithmic bins\n",
    "logbins_end = np.log10(max(zspec_sorted)) + 1e-10 # adding a small value to include the last value\n",
    "logbins = np.logspace(logbins_start, logbins_end, num=no_of_bins+1)\n",
    "counts, bins = np.histogram(zspec_sorted, bins=logbins)\n",
    "print(f'Counts: {counts}')\n",
    "print(f'Total: {len(zspec_sorted)}')\n",
    "\n",
    "\n",
    "last_val = 0\n",
    "nmad_val = []\n",
    "for bin in range(no_of_bins):\n",
    "    new_val = last_val + counts[bin]-1\n",
    "    zspec_val = zspec_sorted[last_val:new_val]\n",
    "    zphot_val = zphot_sorted[last_val:new_val]\n",
    "    dz = (np.array(zphot_val) - np.array(zspec_val)) / (1 + np.array(zspec_val))\n",
    "    nmad_val.append(astropy.stats.mad_std(dz))\n",
    "    last_val = new_val + 1\n",
    "print(f'NMAD: {nmad_val}')\n",
    "\n",
    "bin_centers = (np.array(bins[:-1]) + np.array(bins[1:])) / 2\n",
    "plt.clf()\n",
    "plt.plot(bin_centers, nmad_val, 'r--')  # 'r--' specifies a red dashed line\n",
    "\n",
    "plt.xlabel('Redshift')\n",
    "plt.ylabel('NMAD Value')\n",
    "\n",
    "\n",
    "plt.title('NMAD against Redshift')\n",
    "\n",
    "plt.savefig(f'outputs/{field}/{test_title}/nmad_{field}_{id_key}_{agn_sed}_{use_galaxy_templates}.png')\n",
    "plt.show()"
   ],
   "metadata": {
    "collapsed": false
   }
  },
  {
   "cell_type": "code",
   "execution_count": null,
   "outputs": [],
   "source": [
    "# Saving Key data to csv\n",
    "key_data = pd.DataFrame(columns=headings)\n",
    "key_data.loc[0] = [id_key, loop_number, agn_sed, use_galaxy_templates, total_count, total_agn, total_agn/total_count, ir_count, ir_percent, radio_count, radio_percent, xray_count, xray_percent, mean_frac, cat_count, outliers_count, total_nmad, nmad_val]\n",
    "key_data.to_csv(key_data_file, mode='a', index=False, header=False)"
   ],
   "metadata": {
    "collapsed": false
   }
  },
  {
   "cell_type": "code",
   "execution_count": null,
   "outputs": [],
   "source": [
    "# there is more cells in the example ipy, but they are not needed for this project, they include UVJ, SED and saving zout files.\n",
    "#that's all folks"
   ],
   "metadata": {
    "collapsed": false
   }
  }
 ],
 "metadata": {
  "kernelspec": {
   "display_name": "Python 3 (ipykernel)",
   "language": "python",
   "name": "python3"
  },
  "language_info": {
   "codemirror_mode": {
    "name": "ipython",
    "version": 3
   },
   "file_extension": ".py",
   "mimetype": "text/x-python",
   "name": "python",
   "nbconvert_exporter": "python",
   "pygments_lexer": "ipython3",
   "version": "3.10.13"
  }
 },
 "nbformat": 4,
 "nbformat_minor": 4
}
