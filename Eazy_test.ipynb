{
 "cells": [
  {
   "cell_type": "markdown",
   "source": [
    "# Running Through EAZY Py\n",
    "\n",
    "##### Made by Eddie Cunning, 2024 Honours Project\n",
    "\n",
    "This is an individual testing notebook, testing one template suite at a time.\n",
    "You choose a field, and a catalogue key, and the notebook will run through the EAZY process, outputting a variety of graphs and data.\n",
    "Further, there is an agn_sed component, this is where you can select which AGN templates you want to use, and the use_galaxy_templates component, which allows you to use galaxy templates as well as AGN templates. The number valeus are as the templates appear in the file explorer, so the first template is 0, the second is 1, and so on.\n",
    "catalogue_prepare.ipynb can be used to prepare a catalogue for testing.\n"
   ],
   "metadata": {
    "collapsed": false
   }
  },
  {
   "cell_type": "code",
   "execution_count": 355,
   "metadata": {},
   "outputs": [
    {
     "name": "stdout",
     "output_type": "stream",
     "text": [
      "EAZYCODE = None\n",
      "\n",
      "Sun Sep  1 14:09:36 2024\n",
      "\n",
      "3.10.13 | packaged by Anaconda, Inc. | (main, Sep 11 2023, 13:24:38) [MSC v.1916 64 bit (AMD64)]\n",
      "\n",
      "               numpy : 1.22.4\n",
      "               scipy : 1.11.4\n",
      "          matplotlib : 3.8.4\n",
      "             astropy : 5.1\n",
      "                eazy : 0.6.8\n",
      "            prospect : 1.0.0\n"
     ]
    }
   ],
   "source": [
    "%matplotlib inline\n",
    "\n",
    "import os\n",
    "import glob\n",
    "import matplotlib.pyplot as plt\n",
    "import warnings\n",
    "import numpy as np\n",
    "import pandas as pd\n",
    "from astropy.utils.exceptions import AstropyWarning\n",
    "import eazy.hdf5\n",
    "import time\n",
    "import importlib\n",
    "import sys\n",
    "import eazy\n",
    "import astropy.stats\n",
    "import prospect\n",
    "import math\n",
    "\n",
    "np.seterr(all='ignore')\n",
    "warnings.simplefilter('ignore', category=AstropyWarning)\n",
    "print('EAZYCODE = '+ str(os.getenv('EAZYCODE')) + '\\n')\n",
    "\n",
    "print(time.ctime() + '\\n')\n",
    "\n",
    "print(sys.version + '\\n')\n",
    "\n",
    "for module in ['numpy', 'scipy', 'matplotlib','astropy','eazy', 'prospect']:\n",
    "    mod = importlib.import_module(module)\n",
    "    print('{0:>20} : {1}'.format(module, mod.__version__))"
   ]
  },
  {
   "cell_type": "markdown",
   "source": [
    "Test Settings Cell, can find more in depth changes further down, or in base.param file"
   ],
   "metadata": {
    "collapsed": false
   }
  },
  {
   "cell_type": "code",
   "execution_count": 359,
   "outputs": [],
   "source": [
    "# Load ZFOURGE catalogue from local drive\n",
    "test_title = 'test_7' # title of the test, eg. 1,2, A, B, Initial.\n",
    "field = 'cdfs' #'cdfs', 'cosmos', or 'uds'\n",
    "\n",
    "# Choose ID key for the catalogue\n",
    "# A key designates what type of test you want to occur\n",
    "id_key = 'donley' # normal, high or low\n",
    "\n",
    "# Directories for key, name keys anything, it is just to keep track of any complex object choices made in catalogue_prepare.ipynb\n",
    "id_key_dict = {\n",
    "    'normal': f'inputs/alternate_catalogues/{field}.normal.cat',\n",
    "    'fraction0.0to0.1': f'inputs/alternate_catalogues/{field}.fraction.bin0.0to0.1.cat',\n",
    "    'fraction0.1to0.2': f'inputs/alternate_catalogues/{field}.fraction.bin0.1to0.2.cat',\n",
    "    'fraction0.2to0.3': f'inputs/alternate_catalogues/{field}.fraction.bin0.2to0.3.cat',\n",
    "    'fraction0.3to0.4': f'inputs/alternate_catalogues/{field}.fraction.bin0.3to0.4.cat',\n",
    "    'fraction0.4to0.5': f'inputs/alternate_catalogues/{field}.fraction.bin0.4to0.5.cat',\n",
    "    'ir_agn': f'inputs/alternate_catalogues/{field}.ir_agn.cat',\n",
    "    'radio_agn': f'inputs/alternate_catalogues/{field}.radio_agn.cat',\n",
    "    'xray_agn': f'inputs/alternate_catalogues/{field}.xray_agn.cat',\n",
    "    'only_agn_0.4': f'inputs/alternate_catalogues/{field}.only_agn_above_0.4.cat',\n",
    "    'only_agn_0.5': f'inputs/alternate_catalogues/{field}.only_agn_above_0.5.cat',\n",
    "    'lacy': f'inputs/alternate_catalogues/{field}.lacy_wedge.cat',\n",
    "    'donley': f'inputs/alternate_catalogues/{field}.donley_wedge.cat',\n",
    "    'useflag': f'inputs/alternate_catalogues/{field}.useflag.cat'\n",
    "}\n",
    "\n",
    "template_key = 'atlas_rest'\n",
    "\n",
    "template_key_dict = {\n",
    "    'atlas_rest': 'templates/hlsp_agnsedatlas_rest/',\n",
    "    'atlas_observed': 'templates/hlsp_agnsedatlas_observed/',\n",
    "    'atlas_combined': 'templates/hlsp_agnsedatlas_rest_combined/'\n",
    "}\n",
    "# AGN templates allocation\n",
    "#agn_sed = [34,25,9] # AGN templates to be added, comma separated list. OR write all to use all templates\n",
    "agn_sed = 'all' # all templates within the agn_dir\n",
    "\n",
    "agn_dir = template_key_dict[template_key] # dir with all agn templates\n",
    "agn_temp_all = os.listdir(agn_dir)\n",
    "\n",
    "if 'all' in agn_sed:\n",
    "    templates_use = np.linspace(0, len(agn_temp_all)-1, len(agn_temp_all), dtype=int).tolist()\n",
    "else:\n",
    "    templates_use = agn_sed\n",
    "\n",
    "use_galaxy_templates = False # set to True to use galaxy templates as well\n",
    "\n",
    "# EAZY Parameters. There are more set below, dependent on values set later in this workbook, and more free to change in base.param\n",
    "# Brown use single template fits, composite templates and no magnitude prior\n",
    "\n",
    "params = {} # setting field specific parameters\n",
    "params['Z_STEP'] = 0.05 # redshift step, defines the precision of each fit, 0.005 default\n",
    "params['TEMPLATE_COMBOS'] = 1 #1 single template fit 2 pairs of templates as defined in templates file −2 all pair combinations or a for all, it is a as defult\n",
    "params['APPLY_PRIOR'] = 'n' # apply the prior, y as default\n"
   ],
   "metadata": {
    "collapsed": false
   }
  },
  {
   "cell_type": "code",
   "execution_count": null,
   "outputs": [],
   "source": [
    "# finding/creating the output directories\n",
    "output_location = 'G:/honours/outputs'\n",
    "# Directories\n",
    "if not os.path.isdir(f'{output_location}/{field}/{test_title}'):\n",
    "    os.makedirs(f'{output_location}/{field}/{test_title}')\n",
    "\n",
    "# Where to Save number data\n",
    "output_directory = f\"{output_location}/{field}/{test_title}/{field}_{test_title}_{id_key}_{template_key}_{agn_sed}_{use_galaxy_templates}_{params['Z_STEP']}_{params['TEMPLATE_COMBOS']}\" # output directory for images\n",
    "key_data_file = f'{output_location}/{field}/{test_title}/{test_title}_data.csv'\n",
    "headings = ['id_key', 'zstep', 'template_key', 'agn_templates', 'galaxy templates', 'total_obj', 'mean_agn_frac', 'spec_count', 'outlier_count', 'nmad_val', 'outlier_nmad', 'outlier_fraction']\n",
    "\n",
    "key_data = pd.DataFrame(columns=headings)\n",
    "if not os.path.isfile(key_data_file):\n",
    "    key_data.to_csv(key_data_file, index=False)\n"
   ],
   "metadata": {
    "collapsed": false
   }
  },
  {
   "cell_type": "markdown",
   "source": [
    "Loading Templates Function"
   ],
   "metadata": {
    "collapsed": false
   }
  },
  {
   "cell_type": "code",
   "execution_count": 357,
   "outputs": [],
   "source": [
    "# Load any templates from the AGN template library\n",
    "\n",
    "temp_param = 'templates/eazy_v1.3.spectra.param' # basic parameter file, no agn templates\n",
    "last_id = 9 # last id in the parameter file\n",
    "empty_param = 'templates/eazy_v1.3_empty.param' # empty parameter file\n",
    "agn_param = 'templates/eazy_v1.3_AGN.param' # parameter file with agn templates\n",
    "\n",
    "# opening the parameter files, and reading the contents\n",
    "with open(temp_param) as f:\n",
    "    original_galaxy = f.read()\n",
    "\n",
    "with open(empty_param) as f:\n",
    "    original_empty = f.read()\n",
    "\n",
    "\n",
    "\n",
    "\n",
    "def agn_template_loader(templates, use_galaxy_templates=True):\n",
    "\n",
    "    \"\"\"\n",
    "    Function to load AGN templates to the parameter file\n",
    "    templates: list of templates to be added\n",
    "    use_galaxy_templates: set to True to use galaxy templates as well\n",
    "    \"\"\"\n",
    "    if use_galaxy_templates:\n",
    "        copy_original_galaxy = original_galaxy\n",
    "        no_of_templates_added = len(templates)\n",
    "        if no_of_templates_added == 0:\n",
    "            open(agn_param, 'w').write(copy_original_galaxy)\n",
    "            print('No AGN templates added, just using EAZY galaxy templates')\n",
    "            return\n",
    "        for i in range(no_of_templates_added):\n",
    "            current_id = last_id + 1 + i\n",
    "            copy_original_galaxy = copy_original_galaxy + f'\\n{current_id}   {agn_dir}{agn_temp_all[templates[i]]}   1.0 0 1.0    '\n",
    "        open(agn_param, 'w').write(copy_original_galaxy)\n",
    "        print(f'AGN templates added to the parameter file, {templates}, {agn_param}, {last_id} galaxy templates used')\n",
    "        return\n",
    "    else:\n",
    "        copy_original_galaxy = original_empty\n",
    "        no_of_templates_added = len(templates)\n",
    "        if no_of_templates_added == 0:\n",
    "            open(agn_param, 'w').write(copy_original_galaxy)\n",
    "            print('No AGN templates added, no Galaxy templates used')\n",
    "            return\n",
    "        for i in range(no_of_templates_added):\n",
    "            current_id = 1 + i\n",
    "            copy_original_galaxy = copy_original_galaxy + f'\\n{current_id}   {agn_dir}{agn_temp_all[templates[i]]}   1.0 0 1.0    '\n",
    "        open(agn_param, 'w').write(copy_original_galaxy)\n",
    "        print(f'AGN templates added to the parameter file {agn_param}, no galaxy templates used')\n",
    "        return\n"
   ],
   "metadata": {
    "collapsed": false
   }
  },
  {
   "cell_type": "markdown",
   "source": [
    "AGN Data Analysis"
   ],
   "metadata": {
    "collapsed": false
   }
  },
  {
   "cell_type": "code",
   "execution_count": 358,
   "outputs": [
    {
     "ename": "FileNotFoundError",
     "evalue": "[Errno 2] No such file or directory: 'templates/hlsp_agnsedatlas_rest_combined/hlsp_agnsedatlas_multi_multi_2masxj13000533+1632151_multi_v1_spec-rest.dat'",
     "output_type": "error",
     "traceback": [
      "\u001B[1;31m---------------------------------------------------------------------------\u001B[0m",
      "\u001B[1;31mFileNotFoundError\u001B[0m                         Traceback (most recent call last)",
      "Cell \u001B[1;32mIn[358], line 4\u001B[0m\n\u001B[0;32m      2\u001B[0m plt\u001B[38;5;241m.\u001B[39mclf()\n\u001B[0;32m      3\u001B[0m \u001B[38;5;28;01mfor\u001B[39;00m i \u001B[38;5;129;01min\u001B[39;00m templates_use:\n\u001B[1;32m----> 4\u001B[0m     template_data \u001B[38;5;241m=\u001B[39m \u001B[43mpd\u001B[49m\u001B[38;5;241;43m.\u001B[39;49m\u001B[43mread_csv\u001B[49m\u001B[43m(\u001B[49m\u001B[38;5;124;43mf\u001B[39;49m\u001B[38;5;124;43m'\u001B[39;49m\u001B[38;5;132;43;01m{\u001B[39;49;00m\u001B[43magn_dir\u001B[49m\u001B[38;5;132;43;01m}\u001B[39;49;00m\u001B[38;5;132;43;01m{\u001B[39;49;00m\u001B[43magn_temp_all\u001B[49m\u001B[43m[\u001B[49m\u001B[43mi\u001B[49m\u001B[43m]\u001B[49m\u001B[38;5;132;43;01m}\u001B[39;49;00m\u001B[38;5;124;43m'\u001B[39;49m\u001B[43m,\u001B[49m\u001B[43m \u001B[49m\u001B[43msep\u001B[49m\u001B[38;5;241;43m=\u001B[39;49m\u001B[38;5;124;43m'\u001B[39;49m\u001B[38;5;124;43m \u001B[39;49m\u001B[38;5;124;43m'\u001B[39;49m\u001B[43m,\u001B[49m\u001B[43m \u001B[49m\u001B[43mheader\u001B[49m\u001B[38;5;241;43m=\u001B[39;49m\u001B[38;5;28;43;01mNone\u001B[39;49;00m\u001B[43m)\u001B[49m\n\u001B[0;32m      5\u001B[0m     flux_position \u001B[38;5;241m=\u001B[39m  \u001B[38;5;28mabs\u001B[39m(template_data[\u001B[38;5;241m0\u001B[39m] \u001B[38;5;241m-\u001B[39m \u001B[38;5;241m6000\u001B[39m)\u001B[38;5;241m.\u001B[39midxmin()\n\u001B[0;32m      6\u001B[0m     flux_normal \u001B[38;5;241m=\u001B[39m template_data[\u001B[38;5;241m1\u001B[39m][flux_position]\n",
      "File \u001B[1;32m~\\anaconda3\\envs\\SEDTemplate_conda\\lib\\site-packages\\pandas\\io\\parsers\\readers.py:948\u001B[0m, in \u001B[0;36mread_csv\u001B[1;34m(filepath_or_buffer, sep, delimiter, header, names, index_col, usecols, dtype, engine, converters, true_values, false_values, skipinitialspace, skiprows, skipfooter, nrows, na_values, keep_default_na, na_filter, verbose, skip_blank_lines, parse_dates, infer_datetime_format, keep_date_col, date_parser, date_format, dayfirst, cache_dates, iterator, chunksize, compression, thousands, decimal, lineterminator, quotechar, quoting, doublequote, escapechar, comment, encoding, encoding_errors, dialect, on_bad_lines, delim_whitespace, low_memory, memory_map, float_precision, storage_options, dtype_backend)\u001B[0m\n\u001B[0;32m    935\u001B[0m kwds_defaults \u001B[38;5;241m=\u001B[39m _refine_defaults_read(\n\u001B[0;32m    936\u001B[0m     dialect,\n\u001B[0;32m    937\u001B[0m     delimiter,\n\u001B[1;32m   (...)\u001B[0m\n\u001B[0;32m    944\u001B[0m     dtype_backend\u001B[38;5;241m=\u001B[39mdtype_backend,\n\u001B[0;32m    945\u001B[0m )\n\u001B[0;32m    946\u001B[0m kwds\u001B[38;5;241m.\u001B[39mupdate(kwds_defaults)\n\u001B[1;32m--> 948\u001B[0m \u001B[38;5;28;01mreturn\u001B[39;00m \u001B[43m_read\u001B[49m\u001B[43m(\u001B[49m\u001B[43mfilepath_or_buffer\u001B[49m\u001B[43m,\u001B[49m\u001B[43m \u001B[49m\u001B[43mkwds\u001B[49m\u001B[43m)\u001B[49m\n",
      "File \u001B[1;32m~\\anaconda3\\envs\\SEDTemplate_conda\\lib\\site-packages\\pandas\\io\\parsers\\readers.py:611\u001B[0m, in \u001B[0;36m_read\u001B[1;34m(filepath_or_buffer, kwds)\u001B[0m\n\u001B[0;32m    608\u001B[0m _validate_names(kwds\u001B[38;5;241m.\u001B[39mget(\u001B[38;5;124m\"\u001B[39m\u001B[38;5;124mnames\u001B[39m\u001B[38;5;124m\"\u001B[39m, \u001B[38;5;28;01mNone\u001B[39;00m))\n\u001B[0;32m    610\u001B[0m \u001B[38;5;66;03m# Create the parser.\u001B[39;00m\n\u001B[1;32m--> 611\u001B[0m parser \u001B[38;5;241m=\u001B[39m TextFileReader(filepath_or_buffer, \u001B[38;5;241m*\u001B[39m\u001B[38;5;241m*\u001B[39mkwds)\n\u001B[0;32m    613\u001B[0m \u001B[38;5;28;01mif\u001B[39;00m chunksize \u001B[38;5;129;01mor\u001B[39;00m iterator:\n\u001B[0;32m    614\u001B[0m     \u001B[38;5;28;01mreturn\u001B[39;00m parser\n",
      "File \u001B[1;32m~\\anaconda3\\envs\\SEDTemplate_conda\\lib\\site-packages\\pandas\\io\\parsers\\readers.py:1448\u001B[0m, in \u001B[0;36mTextFileReader.__init__\u001B[1;34m(self, f, engine, **kwds)\u001B[0m\n\u001B[0;32m   1445\u001B[0m     \u001B[38;5;28mself\u001B[39m\u001B[38;5;241m.\u001B[39moptions[\u001B[38;5;124m\"\u001B[39m\u001B[38;5;124mhas_index_names\u001B[39m\u001B[38;5;124m\"\u001B[39m] \u001B[38;5;241m=\u001B[39m kwds[\u001B[38;5;124m\"\u001B[39m\u001B[38;5;124mhas_index_names\u001B[39m\u001B[38;5;124m\"\u001B[39m]\n\u001B[0;32m   1447\u001B[0m \u001B[38;5;28mself\u001B[39m\u001B[38;5;241m.\u001B[39mhandles: IOHandles \u001B[38;5;241m|\u001B[39m \u001B[38;5;28;01mNone\u001B[39;00m \u001B[38;5;241m=\u001B[39m \u001B[38;5;28;01mNone\u001B[39;00m\n\u001B[1;32m-> 1448\u001B[0m \u001B[38;5;28mself\u001B[39m\u001B[38;5;241m.\u001B[39m_engine \u001B[38;5;241m=\u001B[39m \u001B[38;5;28;43mself\u001B[39;49m\u001B[38;5;241;43m.\u001B[39;49m\u001B[43m_make_engine\u001B[49m\u001B[43m(\u001B[49m\u001B[43mf\u001B[49m\u001B[43m,\u001B[49m\u001B[43m \u001B[49m\u001B[38;5;28;43mself\u001B[39;49m\u001B[38;5;241;43m.\u001B[39;49m\u001B[43mengine\u001B[49m\u001B[43m)\u001B[49m\n",
      "File \u001B[1;32m~\\anaconda3\\envs\\SEDTemplate_conda\\lib\\site-packages\\pandas\\io\\parsers\\readers.py:1705\u001B[0m, in \u001B[0;36mTextFileReader._make_engine\u001B[1;34m(self, f, engine)\u001B[0m\n\u001B[0;32m   1703\u001B[0m     \u001B[38;5;28;01mif\u001B[39;00m \u001B[38;5;124m\"\u001B[39m\u001B[38;5;124mb\u001B[39m\u001B[38;5;124m\"\u001B[39m \u001B[38;5;129;01mnot\u001B[39;00m \u001B[38;5;129;01min\u001B[39;00m mode:\n\u001B[0;32m   1704\u001B[0m         mode \u001B[38;5;241m+\u001B[39m\u001B[38;5;241m=\u001B[39m \u001B[38;5;124m\"\u001B[39m\u001B[38;5;124mb\u001B[39m\u001B[38;5;124m\"\u001B[39m\n\u001B[1;32m-> 1705\u001B[0m \u001B[38;5;28mself\u001B[39m\u001B[38;5;241m.\u001B[39mhandles \u001B[38;5;241m=\u001B[39m \u001B[43mget_handle\u001B[49m\u001B[43m(\u001B[49m\n\u001B[0;32m   1706\u001B[0m \u001B[43m    \u001B[49m\u001B[43mf\u001B[49m\u001B[43m,\u001B[49m\n\u001B[0;32m   1707\u001B[0m \u001B[43m    \u001B[49m\u001B[43mmode\u001B[49m\u001B[43m,\u001B[49m\n\u001B[0;32m   1708\u001B[0m \u001B[43m    \u001B[49m\u001B[43mencoding\u001B[49m\u001B[38;5;241;43m=\u001B[39;49m\u001B[38;5;28;43mself\u001B[39;49m\u001B[38;5;241;43m.\u001B[39;49m\u001B[43moptions\u001B[49m\u001B[38;5;241;43m.\u001B[39;49m\u001B[43mget\u001B[49m\u001B[43m(\u001B[49m\u001B[38;5;124;43m\"\u001B[39;49m\u001B[38;5;124;43mencoding\u001B[39;49m\u001B[38;5;124;43m\"\u001B[39;49m\u001B[43m,\u001B[49m\u001B[43m \u001B[49m\u001B[38;5;28;43;01mNone\u001B[39;49;00m\u001B[43m)\u001B[49m\u001B[43m,\u001B[49m\n\u001B[0;32m   1709\u001B[0m \u001B[43m    \u001B[49m\u001B[43mcompression\u001B[49m\u001B[38;5;241;43m=\u001B[39;49m\u001B[38;5;28;43mself\u001B[39;49m\u001B[38;5;241;43m.\u001B[39;49m\u001B[43moptions\u001B[49m\u001B[38;5;241;43m.\u001B[39;49m\u001B[43mget\u001B[49m\u001B[43m(\u001B[49m\u001B[38;5;124;43m\"\u001B[39;49m\u001B[38;5;124;43mcompression\u001B[39;49m\u001B[38;5;124;43m\"\u001B[39;49m\u001B[43m,\u001B[49m\u001B[43m \u001B[49m\u001B[38;5;28;43;01mNone\u001B[39;49;00m\u001B[43m)\u001B[49m\u001B[43m,\u001B[49m\n\u001B[0;32m   1710\u001B[0m \u001B[43m    \u001B[49m\u001B[43mmemory_map\u001B[49m\u001B[38;5;241;43m=\u001B[39;49m\u001B[38;5;28;43mself\u001B[39;49m\u001B[38;5;241;43m.\u001B[39;49m\u001B[43moptions\u001B[49m\u001B[38;5;241;43m.\u001B[39;49m\u001B[43mget\u001B[49m\u001B[43m(\u001B[49m\u001B[38;5;124;43m\"\u001B[39;49m\u001B[38;5;124;43mmemory_map\u001B[39;49m\u001B[38;5;124;43m\"\u001B[39;49m\u001B[43m,\u001B[49m\u001B[43m \u001B[49m\u001B[38;5;28;43;01mFalse\u001B[39;49;00m\u001B[43m)\u001B[49m\u001B[43m,\u001B[49m\n\u001B[0;32m   1711\u001B[0m \u001B[43m    \u001B[49m\u001B[43mis_text\u001B[49m\u001B[38;5;241;43m=\u001B[39;49m\u001B[43mis_text\u001B[49m\u001B[43m,\u001B[49m\n\u001B[0;32m   1712\u001B[0m \u001B[43m    \u001B[49m\u001B[43merrors\u001B[49m\u001B[38;5;241;43m=\u001B[39;49m\u001B[38;5;28;43mself\u001B[39;49m\u001B[38;5;241;43m.\u001B[39;49m\u001B[43moptions\u001B[49m\u001B[38;5;241;43m.\u001B[39;49m\u001B[43mget\u001B[49m\u001B[43m(\u001B[49m\u001B[38;5;124;43m\"\u001B[39;49m\u001B[38;5;124;43mencoding_errors\u001B[39;49m\u001B[38;5;124;43m\"\u001B[39;49m\u001B[43m,\u001B[49m\u001B[43m \u001B[49m\u001B[38;5;124;43m\"\u001B[39;49m\u001B[38;5;124;43mstrict\u001B[39;49m\u001B[38;5;124;43m\"\u001B[39;49m\u001B[43m)\u001B[49m\u001B[43m,\u001B[49m\n\u001B[0;32m   1713\u001B[0m \u001B[43m    \u001B[49m\u001B[43mstorage_options\u001B[49m\u001B[38;5;241;43m=\u001B[39;49m\u001B[38;5;28;43mself\u001B[39;49m\u001B[38;5;241;43m.\u001B[39;49m\u001B[43moptions\u001B[49m\u001B[38;5;241;43m.\u001B[39;49m\u001B[43mget\u001B[49m\u001B[43m(\u001B[49m\u001B[38;5;124;43m\"\u001B[39;49m\u001B[38;5;124;43mstorage_options\u001B[39;49m\u001B[38;5;124;43m\"\u001B[39;49m\u001B[43m,\u001B[49m\u001B[43m \u001B[49m\u001B[38;5;28;43;01mNone\u001B[39;49;00m\u001B[43m)\u001B[49m\u001B[43m,\u001B[49m\n\u001B[0;32m   1714\u001B[0m \u001B[43m\u001B[49m\u001B[43m)\u001B[49m\n\u001B[0;32m   1715\u001B[0m \u001B[38;5;28;01massert\u001B[39;00m \u001B[38;5;28mself\u001B[39m\u001B[38;5;241m.\u001B[39mhandles \u001B[38;5;129;01mis\u001B[39;00m \u001B[38;5;129;01mnot\u001B[39;00m \u001B[38;5;28;01mNone\u001B[39;00m\n\u001B[0;32m   1716\u001B[0m f \u001B[38;5;241m=\u001B[39m \u001B[38;5;28mself\u001B[39m\u001B[38;5;241m.\u001B[39mhandles\u001B[38;5;241m.\u001B[39mhandle\n",
      "File \u001B[1;32m~\\anaconda3\\envs\\SEDTemplate_conda\\lib\\site-packages\\pandas\\io\\common.py:863\u001B[0m, in \u001B[0;36mget_handle\u001B[1;34m(path_or_buf, mode, encoding, compression, memory_map, is_text, errors, storage_options)\u001B[0m\n\u001B[0;32m    858\u001B[0m \u001B[38;5;28;01melif\u001B[39;00m \u001B[38;5;28misinstance\u001B[39m(handle, \u001B[38;5;28mstr\u001B[39m):\n\u001B[0;32m    859\u001B[0m     \u001B[38;5;66;03m# Check whether the filename is to be opened in binary mode.\u001B[39;00m\n\u001B[0;32m    860\u001B[0m     \u001B[38;5;66;03m# Binary mode does not support 'encoding' and 'newline'.\u001B[39;00m\n\u001B[0;32m    861\u001B[0m     \u001B[38;5;28;01mif\u001B[39;00m ioargs\u001B[38;5;241m.\u001B[39mencoding \u001B[38;5;129;01mand\u001B[39;00m \u001B[38;5;124m\"\u001B[39m\u001B[38;5;124mb\u001B[39m\u001B[38;5;124m\"\u001B[39m \u001B[38;5;129;01mnot\u001B[39;00m \u001B[38;5;129;01min\u001B[39;00m ioargs\u001B[38;5;241m.\u001B[39mmode:\n\u001B[0;32m    862\u001B[0m         \u001B[38;5;66;03m# Encoding\u001B[39;00m\n\u001B[1;32m--> 863\u001B[0m         handle \u001B[38;5;241m=\u001B[39m \u001B[38;5;28;43mopen\u001B[39;49m\u001B[43m(\u001B[49m\n\u001B[0;32m    864\u001B[0m \u001B[43m            \u001B[49m\u001B[43mhandle\u001B[49m\u001B[43m,\u001B[49m\n\u001B[0;32m    865\u001B[0m \u001B[43m            \u001B[49m\u001B[43mioargs\u001B[49m\u001B[38;5;241;43m.\u001B[39;49m\u001B[43mmode\u001B[49m\u001B[43m,\u001B[49m\n\u001B[0;32m    866\u001B[0m \u001B[43m            \u001B[49m\u001B[43mencoding\u001B[49m\u001B[38;5;241;43m=\u001B[39;49m\u001B[43mioargs\u001B[49m\u001B[38;5;241;43m.\u001B[39;49m\u001B[43mencoding\u001B[49m\u001B[43m,\u001B[49m\n\u001B[0;32m    867\u001B[0m \u001B[43m            \u001B[49m\u001B[43merrors\u001B[49m\u001B[38;5;241;43m=\u001B[39;49m\u001B[43merrors\u001B[49m\u001B[43m,\u001B[49m\n\u001B[0;32m    868\u001B[0m \u001B[43m            \u001B[49m\u001B[43mnewline\u001B[49m\u001B[38;5;241;43m=\u001B[39;49m\u001B[38;5;124;43m\"\u001B[39;49m\u001B[38;5;124;43m\"\u001B[39;49m\u001B[43m,\u001B[49m\n\u001B[0;32m    869\u001B[0m \u001B[43m        \u001B[49m\u001B[43m)\u001B[49m\n\u001B[0;32m    870\u001B[0m     \u001B[38;5;28;01melse\u001B[39;00m:\n\u001B[0;32m    871\u001B[0m         \u001B[38;5;66;03m# Binary mode\u001B[39;00m\n\u001B[0;32m    872\u001B[0m         handle \u001B[38;5;241m=\u001B[39m \u001B[38;5;28mopen\u001B[39m(handle, ioargs\u001B[38;5;241m.\u001B[39mmode)\n",
      "\u001B[1;31mFileNotFoundError\u001B[0m: [Errno 2] No such file or directory: 'templates/hlsp_agnsedatlas_rest_combined/hlsp_agnsedatlas_multi_multi_2masxj13000533+1632151_multi_v1_spec-rest.dat'"
     ]
    },
    {
     "data": {
      "text/plain": "<Figure size 640x480 with 0 Axes>"
     },
     "metadata": {},
     "output_type": "display_data"
    }
   ],
   "source": [
    "#plotting all the templates used\n",
    "plt.clf()\n",
    "for i in templates_use:\n",
    "    template_data = pd.read_csv(f'{agn_dir}{agn_temp_all[i]}', sep=' ', header=None)\n",
    "    flux_position =  abs(template_data[0] - 6000).idxmin()\n",
    "    flux_normal = template_data[1][flux_position]\n",
    "    plt.plot(template_data[0], template_data[1] / flux_normal, label=f'{i}')\n",
    "plt.legend()\n",
    "plt.xscale('log')\n",
    "plt.yscale('log')\n",
    "plt.xlabel('Wavelength (Angstrom)')\n",
    "plt.ylabel('Flux/F6000')\n",
    "plt.title('AGN Templates')\n",
    "plt.xlim(900, 35e4)\n",
    "plt.ylim(1e-2, 1e3)\n"
   ],
   "metadata": {
    "collapsed": false
   }
  },
  {
   "cell_type": "code",
   "execution_count": null,
   "outputs": [],
   "source": [
    "\n",
    "# Read the catalogue\n",
    "os.getcwd()\n",
    "\n",
    "main_cat = pd.read_csv(id_key_dict[id_key]) # get the catalogue for the id_key\n",
    "main_cat.to_csv('inputs/eazy_test.cat', index=False) # create a new catalogue, allows for change to be made in this cell\n",
    "\n",
    "#Setting up the main catalogue\n",
    "main = pd.read_csv('inputs/eazy_test.cat', sep=\" \", comment=\"#\", header=None, skipinitialspace=True) # opening cut cat, and adjusting it\n",
    "headers = pd.read_csv('inputs/eazy_test.cat', sep=\" \", header=None, nrows=1).iloc[0]\n",
    "headers = headers[1:]\n",
    "main.columns = headers\n",
    "\n",
    "total_count = len(main) # all objects in the range\n",
    "total_count"
   ],
   "metadata": {
    "collapsed": false
   }
  },
  {
   "cell_type": "code",
   "execution_count": null,
   "outputs": [],
   "source": [
    "# Plot of % influence from AGN on each object\n",
    "agn_per_dir = f'inputs/{field}_agn_frac.txt' # file with AGN fractions for each object, prepared in catalogue_prepare.ipynb\n",
    "all_bayes = pd.read_csv(agn_per_dir, sep=\"\\s+\", comment='#')"
   ],
   "metadata": {
    "collapsed": false
   }
  },
  {
   "cell_type": "code",
   "execution_count": null,
   "outputs": [],
   "source": [
    "has_fraction = 'bayes.agn.fracAGN' in main.columns\n",
    "if not has_fraction:\n",
    "    main = pd.merge(main, all_bayes, on='id', how='left') # AGN fraction for each object\n",
    "\n",
    "mean_frac = np.mean(main['bayes.agn.fracAGN'])\n",
    "\n",
    "plt.clf()\n",
    "plt.hist(main['bayes.agn.fracAGN'], bins=50, alpha=0.5, label='AGN Fraction')\n",
    "\n",
    "plt.xlabel('AGN Fraction')\n",
    "plt.ylabel('Number of Objects')\n",
    "plt.title(f'AGN Fraction Distribution for objects using {id_key} key')\n",
    "plt.text(0.7, 0.9, f'Mean AGN Fraction: {mean_frac:.2%}', fontsize=8, horizontalalignment='center', verticalalignment='center', transform=plt.gca().transAxes)\n",
    "plt.savefig(f'{output_directory}_agn_frac.png')\n",
    "plt.show()"
   ],
   "metadata": {
    "collapsed": false
   }
  },
  {
   "cell_type": "markdown",
   "source": [
    "Running EAZY, some parameters can be changed here, look to the base.param file to adjust more"
   ],
   "metadata": {
    "collapsed": false
   }
  },
  {
   "cell_type": "code",
   "execution_count": null,
   "metadata": {
    "collapsed": false,
    "jupyter": {
     "outputs_hidden": false
    }
   },
   "outputs": [],
   "source": [
    "# EAZY parameters\n",
    "\n",
    "# following files should be in the same dir as the project\n",
    "param_file = 'base.param' #base parameter file, does not include all information\n",
    "translate_file = glob.glob(f'zfourge/{field}/eazy/{field}.*.translate')\n",
    "\n",
    "agn_template_loader(templates_use, use_galaxy_templates=use_galaxy_templates) # loads the chosen AGN templates to the parameter file\n",
    "\n",
    "#inputs\n",
    "params['TEMPLATES_FILE'] = agn_param # parameter file containing which templates will be used\n",
    "params['CACHE_FILE'] = f'{output_location}/{field}/{test_title}/tempfilt_{field}_{id_key}_{params[\"Z_STEP\"]}_{agn_sed}_{use_galaxy_templates}.dat' # template cache file, not used\n",
    "params['CATALOG_FILE'] = 'inputs/eazy_test.cat' # for cut catalogue created in the earlier cell\n",
    "params['MAIN_OUTPUT_FILE'] = output_directory # output directory set earlier\n"
   ]
  },
  {
   "cell_type": "markdown",
   "source": [
    "Initialize eazy.photoz.PhotoZ object"
   ],
   "metadata": {
    "collapsed": false
   }
  },
  {
   "cell_type": "code",
   "execution_count": null,
   "outputs": [],
   "source": [
    "# Run EAZY with parameters\n",
    "\n",
    "self = eazy.photoz.PhotoZ(param_file=param_file, translate_file=translate_file[0], zeropoint_file=None,\n",
    "                         params=params, load_prior=True, load_products=False)"
   ],
   "metadata": {
    "collapsed": false
   }
  },
  {
   "cell_type": "markdown",
   "source": [
    "Iterative zeropoint corrections"
   ],
   "metadata": {
    "collapsed": false
   }
  },
  {
   "cell_type": "code",
   "execution_count": null,
   "metadata": {
    "collapsed": false,
    "jupyter": {
     "outputs_hidden": false
    }
   },
   "outputs": [],
   "source": [
    "# Iterative Zero-point corrections\n",
    "\n",
    "NITER = 3 # no. of iterations\n",
    "NBIN = np.minimum(self.NOBJ//100, 180) # no. of bins\n",
    "\n",
    "for iter in range(NITER):\n",
    "    print('Iteration: ', iter)\n",
    "\n",
    "    sn = self.fnu/self.efnu\n",
    "    clip = (sn > 1).sum(axis=1) > 4 # Generally make this higher to ensure reasonable fits\n",
    "    self.iterate_zp_templates(idx=self.idx[clip], update_templates=False,\n",
    "                              update_zeropoints=True, iter=iter, n_proc=8,\n",
    "                              save_templates=False, error_residuals=False,\n",
    "                              NBIN=NBIN, get_spatial_offset=False)"
   ]
  },
  {
   "cell_type": "markdown",
   "source": [
    "Now fit the whole catalog"
   ],
   "metadata": {
    "collapsed": false
   }
  },
  {
   "cell_type": "code",
   "execution_count": null,
   "outputs": [],
   "source": [
    "# Turn off error corrections derived above\n",
    "self.set_sys_err(positive=True)\n",
    "\n",
    "# Full catalog\n",
    "sample = np.isfinite(self.ZSPEC)\n",
    "\n",
    "# fit_parallel renamed to fit_catalog 14 May 2021\n",
    "self.fit_catalog(self.idx[sample], n_proc=8)\n",
    "\n",
    "# Show zspec-zphot comparison\n",
    "zmax = 8\n",
    "fig = self.zphot_zspec(zmax = zmax)\n",
    "plt.savefig(f'{output_directory}_zphot_zspec.png')"
   ],
   "metadata": {
    "collapsed": false
   }
  },
  {
   "cell_type": "code",
   "execution_count": null,
   "outputs": [],
   "source": [
    "# Derived parameters (z params, RF colors, masses, SFR, etc.)\n",
    "# produces a linAlg Error occasionally, wasn't needed anyway\n",
    "# warnings.simplefilter('ignore', category=RuntimeWarning)\n",
    "# zout, hdu = self.standard_output(simple=False,\n",
    "#                                  rf_pad_width=0.5, rf_max_err=2,\n",
    "#                                  prior=True, beta_prior=True,\n",
    "#                                  absmag_filters=[],\n",
    "#                                  extra_rf_filters=[])\n",
    "\n",
    "# 'zout' also saved to [MAIN_OUTPUT_FILE].zout.fits"
   ],
   "metadata": {
    "collapsed": false
   }
  },
  {
   "cell_type": "markdown",
   "source": [
    "UVJ Plots"
   ],
   "metadata": {
    "collapsed": false
   }
  },
  {
   "cell_type": "code",
   "execution_count": null,
   "outputs": [],
   "source": [
    "# Show UVJ diagram\n",
    "# see comment in above cell\n",
    "# uv = -2.5*np.log10(zout['restU']/zout['restV'])\n",
    "# vj = -2.5*np.log10(zout['restV']/zout['restJ'])\n",
    "# ssfr = zout['sfr']/zout['mass']\n",
    "#\n",
    "# sel = (zout['z_phot'] > 0.2) & (zout['z_phot'] < 1)\n",
    "# plt.scatter(vj[sel], uv[sel], c=np.log10(ssfr)[sel],\n",
    "#             vmin=-13, vmax=-8, alpha=0.5, cmap='RdYlBu')\n",
    "#\n",
    "# #plt.xlim(-0.2, 2.3); plt.ylim(0, 2.4); plt.grid()\n",
    "# plt.xlabel(r'$(V-J)_0$'); plt.ylabel(r'$(U-V)_0$')"
   ],
   "metadata": {
    "collapsed": false
   }
  },
  {
   "cell_type": "markdown",
   "source": [
    "Initial Statistics"
   ],
   "metadata": {
    "collapsed": false
   }
  },
  {
   "cell_type": "code",
   "execution_count": null,
   "outputs": [],
   "source": [
    "main['ZSPEC'] = self.ZSPEC; main['ZPHOT'] = self.zbest # adding zspec and zphot to the agn_frac df\n",
    "main['chi2'] = self.chi2_best / self.NFILT # adding chi2/N to the main df\n",
    "\n",
    "#sort main df by zspec\n",
    "main_red = main[main['ZSPEC'] > 0] # filter\n",
    "main_red = main_red[main_red['ZPHOT'] > 0.02] # filter\n",
    "main_red = main_red[main_red['ZSPEC'] <= 6] # filter\n",
    "main_red = main_red.sort_values(by='ZSPEC') # sort\n",
    "\n",
    "#sort main df by agn fraction\n",
    "main_agn = main_red.dropna(subset=['bayes.agn.fracAGN']) # filter\n",
    "main_agn = main_agn.sort_values(by='bayes.agn.fracAGN') # sort\n",
    "\n",
    "#total NMAD\n",
    "catastrophic_limit = 0.15 # catastrophic_limit in eazy code\n",
    "def nmad_calc(phot, spec, outlier=False):\n",
    "    if len(phot) != len(spec):\n",
    "        print('Lengths of the photometric and spectroscopic redshifts do not match')\n",
    "        print(f'Phot: {len(phot)}, Spec: {len(spec)}')\n",
    "        return\n",
    "    phot = np.array(phot)\n",
    "    spec = np.array(spec)\n",
    "    diff = (phot - spec) / (1 + spec)\n",
    "    if outlier:\n",
    "        diff_noout = diff[abs(diff) < catastrophic_limit]\n",
    "        return 1.4826 * np.median(abs(diff - np.median(diff))), 1.4826 * np.median(abs(diff_noout - np.median(diff_noout))), len(diff) - len(diff_noout), 1-(len(diff_noout) / len(phot))\n",
    "    else:\n",
    "        return 1.4826 * np.median(abs(diff - np.median(diff)))\n",
    "\n",
    "def rms_calc(phot, spec, outlier=False):\n",
    "    if len(phot) != len(spec):\n",
    "        print('Lengths of the photometric and spectroscopic redshifts do not match')\n",
    "        print(f'Phot: {len(phot)}, Spec: {len(spec)}')\n",
    "        return\n",
    "    phot = np.array(phot)\n",
    "    spec = np.array(spec)\n",
    "    diff = (phot - spec) / (1 + spec)\n",
    "    if outlier:\n",
    "        diff = diff[abs(diff) < 0.15]\n",
    "        return np.sqrt(np.mean(diff**2))\n",
    "    else:\n",
    "        return np.sqrt(np.mean(diff**2))\n",
    "\n",
    "total_nmad, outlier_nmad, outlier_count, outlier_fraction = nmad_calc(main_red['ZPHOT'], main_red['ZSPEC'], outlier=True)\n",
    "outlier_scatter = rms_calc(main_red['ZPHOT'], main_red['ZSPEC'], outlier=True)\n",
    "bias = np.med(main_red['ZPHOT'] - main_red['ZSPEC'])\n",
    "spec_count = len(main_red['ZSPEC'])\n",
    "print(f'Total NMAD: {total_nmad}')\n",
    "print(f'Outlier NMAD: {outlier_nmad}')\n",
    "print(f'Total Outliers:{outlier_count}')\n",
    "print(f'Outlier Fraction: {outlier_fraction}')"
   ],
   "metadata": {
    "collapsed": false
   }
  },
  {
   "cell_type": "markdown",
   "source": [
    "Array Showing Worst Fits, Used in Graphing"
   ],
   "metadata": {
    "collapsed": false
   }
  },
  {
   "cell_type": "code",
   "execution_count": null,
   "outputs": [],
   "source": [
    "all_zphot_zspec = pd.DataFrame({'id':self.idx, 'zspec':self.ZSPEC, 'zphot':self.zbest, 'agn_fraction':main['bayes.agn.fracAGN']})\n",
    "all_zphot_zspec = all_zphot_zspec[all_zphot_zspec['zspec'] > 0.005] #setting minimums for the redshifts\n",
    "all_zphot_zspec = all_zphot_zspec[all_zphot_zspec['zphot'] > 0.02]\n",
    "all_zphot_zspec['compare'] = (all_zphot_zspec['zphot'] - all_zphot_zspec['zspec']) / ( 1 + all_zphot_zspec['zspec'])"
   ],
   "metadata": {
    "collapsed": false
   }
  },
  {
   "cell_type": "markdown",
   "source": [
    "Colour Colour"
   ],
   "metadata": {
    "collapsed": false
   }
  },
  {
   "cell_type": "code",
   "execution_count": null,
   "outputs": [],
   "source": [
    "#Colour Plot with each template (maybe a range around them), and then each object plotted, to see how well these templates cover the objects, in the observed frame\n",
    "\n",
    "colours = ['IRAC_36', 'IRAC_45', 'IRAC_58', 'IRAC_80'] # colours to be used, dictates loops and filter responses\n",
    "columns = ['id', 'agn_fraction', 'red_diff'] + colours # columns to be used in the dataframe\n",
    "used_colours = pd.DataFrame(columns=columns)\n",
    "\n",
    "for i in range(len(colours)):\n",
    "    used_colours[colours[i]] = main[f'f_{colours[i]}']\n",
    "\n",
    "used_colours['id'] = main['id']\n",
    "used_colours['agn_fraction'] = main['bayes.agn.fracAGN']\n",
    "used_colours['red_diff'] = all_zphot_zspec['compare']\n",
    "\n",
    "no_negative_mask = ~used_colours[colours].lt(0).any(axis=1)\n",
    "used_colours = used_colours[no_negative_mask] #remove -99 values\n",
    "\n",
    "used_colours['x'] = np.log10(used_colours['IRAC_58']/used_colours['IRAC_36'])\n",
    "used_colours['y'] = np.log10(used_colours['IRAC_80']/used_colours['IRAC_45'])\n",
    "#Template colours\n",
    "\n",
    "filters_values = {'IRAC_36': 35569, 'IRAC_45': 45020, 'IRAC_58': 57450, 'IRAC_80': 79158}\n",
    "\n",
    "def template_colour_redshift(template, redshift):\n",
    "    \"\"\"\n",
    "    Function to calculate the colours of a template at a given redshift\n",
    "    template: template number\n",
    "    redshift: redshift of the object\n",
    "    \"\"\"\n",
    "\n",
    "    template_data_pre = pd.read_csv(f'{agn_dir}{agn_temp_all[template]}', sep=' ', header=None)\n",
    "\n",
    "    template_data_shifted = pd.DataFrame(columns=['wavelength', 'flux'])\n",
    "    template_data_shifted['wavelength']= (redshift * template_data_pre[0]) + template_data_pre[0] #redshifting the template\n",
    "    template_data_shifted['flux'] = template_data_pre[1]\n",
    "\n",
    "    temp_filt_flux_all = pd.DataFrame(columns=[colours])\n",
    "\n",
    "    for j in range(len(colours)):\n",
    "        # finds what flux best correlates with the wavelength pivot of the given filter\n",
    "        min_location = abs(template_data_shifted['wavelength'] - filters_values[colours[j]]).idxmin()\n",
    "        temp_filt_flux = template_data_shifted['flux'][min_location]\n",
    "        temp_filt_flux_all[colours[j]] = [temp_filt_flux]\n",
    "\n",
    "    return temp_filt_flux_all"
   ],
   "metadata": {
    "collapsed": false
   }
  },
  {
   "cell_type": "code",
   "execution_count": null,
   "outputs": [],
   "source": [
    "# IRAC plot\n",
    "import matplotlib.colors as colors\n",
    "\n",
    "plt.clf()\n",
    "three_sig_limit = used_colours['red_diff'].std(ddof=3)\n",
    "norm = colors.Normalize(vmin=-three_sig_limit, vmax=three_sig_limit)\n",
    "\n",
    "plt.scatter(used_colours['x'], used_colours['y'], c=used_colours['red_diff'], cmap='PiYG', norm=norm, marker='.', alpha=0.9)\n",
    "plt.xlim(-0.6, 0.8)\n",
    "plt.ylim(-1.2, 1.2)\n",
    "plt.colorbar()\n",
    "\n",
    "plt.xlabel('log(f58/f36)')\n",
    "plt.ylabel('log(f80/f45)')\n",
    "plt.title('IRAC Plot with Redshift Difference')\n",
    "\n",
    "# Plot Lacy Lines\n",
    "x_boundary = np.linspace(-0.1, 2, 100)  # Adjust range as needed\n",
    "y_boundary1 = -0.2 * np.ones_like(x_boundary)\n",
    "y_boundary2 = 0.8 * x_boundary + 0.5\n",
    "y_line = np.linspace(-0.2, 0.4, 100)\n",
    "plt.plot(x_boundary, y_boundary1, color='red', linestyle='--')\n",
    "plt.plot(x_boundary, y_boundary2, color='red', linestyle='--')\n",
    "plt.plot(-0.1 * np.ones_like(y_line), y_line, color='red', linestyle='--')\n",
    "\n",
    "# Define functions for boundary lines\n",
    "def line1(x):\n",
    "    return 1.21 * x - 0.27\n",
    "def line2(x):\n",
    "    return 1.21 * x + 0.27\n",
    "\n",
    "# Generate x values for plotting lines\n",
    "x_values1 = np.linspace(0.08, max(used_colours['x']), 100)\n",
    "x_values2 = np.linspace(0.35, max(used_colours['x']), 100)\n",
    "\n",
    "# Plot the lines\n",
    "plt.plot(x_values2, line1(x_values2), color='magenta', linestyle='--')\n",
    "plt.plot(x_values1, line2(x_values1), color='magenta', linestyle='--')\n",
    "plt.plot(np.linspace(0.08, 0.35, 10), np.linspace(0.15, 0.15, 10), color='magenta', linestyle='--')\n",
    "plt.plot(np.linspace(0.08, 0.08, 10), np.linspace(0.15, 0.35, 10), color='magenta', linestyle='--')"
   ],
   "metadata": {
    "collapsed": false
   }
  },
  {
   "cell_type": "code",
   "execution_count": null,
   "outputs": [],
   "source": [
    "# IRAC plot\n",
    "plt.clf()\n",
    "plt.scatter(used_colours['x'], used_colours['y'], c=used_colours['agn_fraction'], cmap='inferno', marker='.', alpha=0.5)\n",
    "plt.xlim(-0.6, 0.8)\n",
    "plt.ylim(-1.2, 1.2)\n",
    "plt.colorbar()\n",
    "\n",
    "plt.xlabel('log(f58/f36)')\n",
    "plt.ylabel('log(f80/f45)')\n",
    "plt.title('IRAC Plot with AGN Fraction')\n",
    "\n",
    "# Plot the lines\n",
    "plt.plot(x_boundary, y_boundary1, color='red', linestyle='--')\n",
    "plt.plot(x_boundary, y_boundary2, color='red', linestyle='--')\n",
    "plt.plot(-0.1 * np.ones_like(y_line), y_line, color='red', linestyle='--')\n",
    "plt.plot(x_values2, line1(x_values2), color='magenta', linestyle='--')\n",
    "plt.plot(x_values1, line2(x_values1), color='magenta', linestyle='--')\n",
    "plt.plot(np.linspace(0.08, 0.35, 10), np.linspace(0.15, 0.15, 10), color='magenta', linestyle='--')\n",
    "plt.plot(np.linspace(0.08, 0.08, 10), np.linspace(0.15, 0.35, 10), color='magenta', linestyle='--')"
   ],
   "metadata": {
    "collapsed": false
   }
  },
  {
   "cell_type": "code",
   "execution_count": null,
   "outputs": [],
   "source": [
    "# PLot With Template Colours shown\n",
    "plt.clf()\n",
    "plt.scatter(used_colours['x'], used_colours['y'], c=used_colours['agn_fraction'], cmap='inferno', marker='.', alpha=0.5)\n",
    "plt.xlim(-0.6, 0.8)\n",
    "plt.ylim(-1.2, 1.2)\n",
    "plt.colorbar()\n",
    "\n",
    "plt.xlabel('log(f58/f36)')\n",
    "plt.ylabel('log(f80/f45)')\n",
    "plt.title('IRAC Plot with AGN Fraction')\n",
    "\n",
    "templates_graph = templates_use # templates to be plotted\n",
    "redshift_graph = np.linspace(0, 5, 50) # redshifts to be plotted\n",
    "for i in range(len(templates_graph)):\n",
    "    for j in range(len(redshift_graph)):\n",
    "        temp_redshift = template_colour_redshift(templates_graph[i], redshift_graph[j])\n",
    "        temp_redshift.to_numpy()\n",
    "        temp_redshift['x_axis'] = np.log10(used_colours['IRAC_58']/used_colours['IRAC_36'])\n",
    "        temp_redshift['y_axis'] = np.log10(used_colours['IRAC_80']/used_colours['IRAC_45'])\n",
    "        plt.plot(temp_redshift['y_axis'], temp_redshift['x_axis'],marker='o', c='green')\n"
   ],
   "metadata": {
    "collapsed": false
   }
  },
  {
   "cell_type": "markdown",
   "source": [
    "Redshift Plot with AGN fraction"
   ],
   "metadata": {
    "collapsed": false
   }
  },
  {
   "cell_type": "code",
   "execution_count": null,
   "outputs": [],
   "source": [
    "plt.clf()\n",
    "plt.scatter(all_zphot_zspec['zspec'],\n",
    "            all_zphot_zspec['zphot'],\n",
    "            c=all_zphot_zspec['agn_fraction'], cmap='inferno', alpha=0.9, label='AGN Fraction')\n",
    "plt.plot([0, 6], [0, 6], 'r--')\n",
    "plt.xlim(0, 5)\n",
    "plt.ylim(0, 5)\n",
    "plt.xlabel('ZSPEC')\n",
    "plt.ylabel('ZPHOT')\n",
    "plt.title('ZSPEC vs ZPHOT with AGN Fraction')\n",
    "plt.colorbar()\n",
    "plt.text(0.25, 0.9, f'NMAD: {total_nmad:.4f} No_Out: {outlier_nmad:.4f}', fontsize=10, horizontalalignment='center', verticalalignment='center', transform=plt.gca().transAxes)\n",
    "plt.text(0.25, 0.85, f'Outliers: {outlier_count} / {len(all_zphot_zspec)} : {outlier_fraction:.2%}', fontsize=10, horizontalalignment='center', verticalalignment='center', transform=plt.gca().transAxes)\n"
   ],
   "metadata": {
    "collapsed": false
   }
  },
  {
   "cell_type": "markdown",
   "source": [
    "RedShift Difference Vs AGN Fraction"
   ],
   "metadata": {
    "collapsed": false
   }
  },
  {
   "cell_type": "code",
   "execution_count": null,
   "outputs": [],
   "source": [
    "plt.clf()\n",
    "plt.scatter(all_zphot_zspec['zspec'],\n",
    "            all_zphot_zspec['compare'],\n",
    "            c=all_zphot_zspec['agn_fraction'], cmap='inferno', alpha=0.9, label='AGN Fraction')\n",
    "plt.plot([0, 6], [0, 0], 'r--')\n",
    "\n",
    "three_sig_limit = all_zphot_zspec['compare'].std(ddof=3)\n",
    "plt.plot([0, 6], [three_sig_limit, three_sig_limit], c='b', ls=(0, (5, 10)))\n",
    "plt.plot([0, 6], [-three_sig_limit, -three_sig_limit], c='b', ls=(0, (5, 10)))\n",
    "#plt.xlim(0, 6)\n",
    "#plt.ylim(-0.8, 0.8)\n",
    "plt.colorbar()\n",
    "plt.xlabel('ZSPEC')\n",
    "plt.ylabel('ZPHOT - ZSPEC / (1 + ZSPEC)')\n",
    "plt.title('Redshift Difference with AGN Fraction')\n",
    "plt.text(0.7, 0.9, f'NMAD: {total_nmad:.4f} No_Out: {outlier_nmad:.4f}', fontsize=10, horizontalalignment='center', verticalalignment='center', transform=plt.gca().transAxes)\n",
    "plt.text(0.7, 0.85, f'Outliers: {outlier_count} / {len(all_zphot_zspec)} : {outlier_fraction:.2%}', fontsize=10, horizontalalignment='center', verticalalignment='center', transform=plt.gca().transAxes)"
   ],
   "metadata": {
    "collapsed": false
   }
  },
  {
   "cell_type": "code",
   "execution_count": null,
   "outputs": [],
   "source": [
    "# see how many filters objects are present in\n",
    "filter_count = [sum(self.fnu[object_id] <= 0) for object_id in all_zphot_zspec['id']]\n",
    "\n",
    "plt.clf()\n",
    "plt.scatter(all_zphot_zspec['zspec'],\n",
    "            all_zphot_zspec['compare'],\n",
    "            c=filter_count, cmap='ocean', alpha=0.9, label='AGN Fraction')\n",
    "plt.plot([0, 6], [0, 0], 'r--')\n",
    "\n",
    "three_sig_limit = all_zphot_zspec['compare'].std(ddof=3)\n",
    "plt.plot([0, 6], [three_sig_limit, three_sig_limit], c='b', ls=(0, (5, 10)))\n",
    "plt.plot([0, 6], [-three_sig_limit, -three_sig_limit], c='b', ls=(0, (5, 10)))\n",
    "#plt.xlim(0, 6)\n",
    "#plt.ylim(-0.8, 0.8)\n",
    "plt.colorbar()\n",
    "plt.xlabel('ZSPEC')\n",
    "plt.ylabel('ZPHOT - ZSPEC / (1 + ZSPEC)')\n",
    "plt.title('Redshift Difference with No. of Filters')"
   ],
   "metadata": {
    "collapsed": false
   }
  },
  {
   "cell_type": "markdown",
   "source": [
    "## Binned Graphs"
   ],
   "metadata": {
    "collapsed": false
   }
  },
  {
   "cell_type": "code",
   "execution_count": null,
   "outputs": [],
   "source": [
    "# see filter error\n",
    "import matplotlib.colors as colors\n",
    "all_filter_error = pd.DataFrame(self.efnu).replace(99, np.nan, inplace=False)\n",
    "filter_error = [np.mean(all_filter_error.loc[object_id, :]) for object_id in all_zphot_zspec['id']]\n",
    "\n",
    "plt.clf()\n",
    "plt.scatter(all_zphot_zspec['zspec'],\n",
    "            all_zphot_zspec['compare'],\n",
    "            c=filter_error,\n",
    "            norm=colors.LogNorm(vmin=min(filter_error), vmax=max(filter_error)),\n",
    "            cmap='summer', alpha=0.9, label='AGN Fraction')\n",
    "plt.plot([0, 6], [0, 0], 'r--')\n",
    "\n",
    "three_sig_limit = all_zphot_zspec['compare'].std(ddof=3)\n",
    "plt.plot([0, 6], [three_sig_limit, three_sig_limit], c='b', ls=(0, (5, 10)))\n",
    "plt.plot([0, 6], [-three_sig_limit, -three_sig_limit], c='b', ls=(0, (5, 10)))\n",
    "#plt.xlim(0, 6)\n",
    "#plt.ylim(-0.8, 0.8)\n",
    "plt.colorbar()\n",
    "plt.xlabel('ZSPEC')\n",
    "plt.ylabel('ZPHOT - ZSPEC / (1 + ZSPEC)')\n",
    "plt.title('Redshift Difference with Average Filter Error')"
   ],
   "metadata": {
    "collapsed": false
   }
  },
  {
   "cell_type": "code",
   "execution_count": null,
   "outputs": [],
   "source": [
    "max(filter_error)"
   ],
   "metadata": {
    "collapsed": false
   }
  },
  {
   "cell_type": "code",
   "execution_count": null,
   "outputs": [],
   "source": [
    "# worst fits\n",
    "worst_fits = abs(all_zphot_zspec['compare'])\n",
    "worst_fits = worst_fits.sort_values(ascending=True)\n",
    "worst_fits.head(20)"
   ],
   "metadata": {
    "collapsed": false
   }
  },
  {
   "cell_type": "code",
   "execution_count": null,
   "outputs": [],
   "source": [
    "no_of_bins = 15 # no. of bins\n",
    "logbins_start = np.log10(min(main_red['ZSPEC'])) # using logarithmic bins\n",
    "logbins_end = np.log10(max(main_red['ZSPEC'])) + 1e-10 # adding a small value to include the last value\n",
    "logbins = np.logspace(logbins_start, logbins_end, num=no_of_bins+1)\n",
    "counts_red, bins_red = np.histogram(main_red['ZSPEC'], bins=logbins)\n",
    "print(f'Counts: {counts_red}')\n",
    "print(f'Total: {len(main_red[\"ZSPEC\"])}')\n",
    "bin_centers_red = (np.array(bins_red[:-1]) + np.array(bins_red[1:])) / 2\n",
    "\n",
    "last_val = 0 # last val is the first value within a bin (say object 2334), while new val is the last\n",
    "nmad_red_val = []\n",
    "outlier_frac_red = []\n",
    "chi2_red = []\n",
    "for bin_loop in range(no_of_bins):\n",
    "    new_val = last_val + counts_red[bin_loop]-1\n",
    "    zspec_val = main_red['ZSPEC'][last_val:new_val]\n",
    "    zphot_val = main_red['ZPHOT'][last_val:new_val]\n",
    "    dz = (np.array(zphot_val) - np.array(zspec_val)) / (1 + np.array(zspec_val))\n",
    "    nmad_red_val.append(astropy.stats.mad_std(dz)) # NMAD\n",
    "    outliers_bin = np.abs(dz) >= catastrophic_limit\n",
    "    bin_fraction = sum(outliers_bin) / counts_red[bin_loop]\n",
    "    outlier_frac_red.append(bin_fraction)\n",
    "    chi2_med = np.median(main_red['chi2'][last_val:new_val]) # chi2\n",
    "    chi2_red.append(chi2_med)\n",
    "    last_val = new_val + 1 # adding 1 to skip the last value of the previous bin\n",
    "\n",
    "print(f'NMAD: {nmad_red_val}')\n",
    "print(f'Outliers: {outlier_frac_red}')\n",
    "print(f'Fits: {chi2_red}')\n",
    "\n",
    "plt.clf()\n",
    "fig, ax = plt.subplots(3, 1, sharex=True)\n",
    "\n",
    "# NMAD\n",
    "ax[0].plot(bin_centers_red, nmad_red_val, 'r--')\n",
    "ax[0].set_ylabel('NMAD')\n",
    "ax[0].text(0.25, 3.2, f'Total NMAD: {total_nmad:.4f}', fontsize=8, horizontalalignment='center', verticalalignment='center', transform=plt.gca().transAxes)\n",
    "\n",
    "# Outliers\n",
    "ax[1].plot(bin_centers_red, outlier_frac_red, 'b--')\n",
    "ax[1].set_ylabel('Outlier Fraction')\n",
    "\n",
    "# Chi2\n",
    "ax[2].plot(bin_centers_red, chi2_red, 'm--')\n",
    "ax[2].set_xlabel('Redshift')\n",
    "ax[2].set_ylabel('Chi2')\n",
    "\n",
    "fig.tight_layout()\n",
    "\n",
    "plt.savefig(f'{output_directory}_RED.png')\n",
    "plt.show()"
   ],
   "metadata": {
    "collapsed": false
   }
  },
  {
   "cell_type": "code",
   "execution_count": null,
   "outputs": [],
   "source": [
    "#NMAD against AGN fraction\n",
    "\n",
    "counts_agn, bins_agn = np.histogram(main_agn['bayes.agn.fracAGN'], bins=no_of_bins)\n",
    "print(f'Counts: {counts_agn}')\n",
    "bin_centers_agn = (np.array(bins_agn[:-1]) + np.array(bins_agn[1:])) / 2\n",
    "\n",
    "last_val = 0 # last val is the first value within a bin (say object 2334), while new val is the last\n",
    "nmad_agn_val = []\n",
    "outlier_frac_agn = []\n",
    "chi2_agn = []\n",
    "for bin_loop in range(no_of_bins):\n",
    "    new_val = last_val + counts_agn[bin_loop]-1\n",
    "    zspec_val = main_agn['ZSPEC'][last_val:new_val]\n",
    "    zphot_val = main_agn['ZPHOT'][last_val:new_val]\n",
    "    dz = (np.array(zphot_val) - np.array(zspec_val)) / (1 + np.array(zspec_val))\n",
    "    nmad_agn_val.append(astropy.stats.mad_std(dz)) # NMAD\n",
    "    outliers_bin = np.abs(dz) >= catastrophic_limit # outlier\n",
    "    bin_fraction = sum(outliers_bin) / counts_agn[bin_loop]\n",
    "    outlier_frac_agn.append(bin_fraction)\n",
    "    chi2_med = np.median(main_agn['chi2'][last_val:new_val]) # chi2\n",
    "    chi2_agn.append(chi2_med)\n",
    "    last_val = new_val + 1 # adding 1 to skip the last value of the previous bin\n",
    "\n",
    "print(f'NMAD: {nmad_agn_val}')\n",
    "print(f'Outliers: {outlier_frac_agn}')\n",
    "print(f'Fits: {chi2_agn}')\n",
    "\n",
    "plt.clf()\n",
    "fig, ax = plt.subplots(3, 1, sharex=True)\n",
    "\n",
    "# NMAD\n",
    "ax[0].plot(bin_centers_agn, nmad_agn_val, 'r--')\n",
    "ax[0].set_ylabel('NMAD')\n",
    "ax[0].text(0.25, 3.2, f'Total NMAD: {total_nmad:.4f}', fontsize=8, horizontalalignment='center', verticalalignment='center', transform=plt.gca().transAxes)\n",
    "\n",
    "# Outliers\n",
    "ax[1].plot(bin_centers_agn, outlier_frac_agn, 'b--')\n",
    "ax[1].set_ylabel('Outlier Fraction')\n",
    "\n",
    "# Chi2\n",
    "ax[2].plot(bin_centers_agn, chi2_agn, 'm--')\n",
    "ax[2].set_xlabel('AGN Fraction')\n",
    "ax[2].set_ylabel('Chi2')\n",
    "\n",
    "fig.tight_layout()\n",
    "\n",
    "plt.savefig(f'{output_directory}_AGN.png')\n",
    "plt.show()"
   ],
   "metadata": {
    "collapsed": false
   }
  },
  {
   "cell_type": "markdown",
   "source": [
    "## Chi 2 Graphs"
   ],
   "metadata": {
    "collapsed": false
   }
  },
  {
   "cell_type": "code",
   "execution_count": null,
   "outputs": [],
   "source": [
    "# Chi 2 against Spectroscopic Redshift\n",
    "main_chi2 = main_red\n",
    "main_chi2['compare'] = (main_chi2['ZPHOT'] - main_chi2['ZSPEC']) / (1 + main_chi2['ZSPEC']) # redshift difference\n",
    "\n",
    "plt.clf()\n",
    "three_sig_limit = main_chi2['compare'].std(ddof=3)\n",
    "norm = colors.Normalize(vmin=-three_sig_limit, vmax=three_sig_limit)\n",
    "\n",
    "plt.scatter(main_chi2['ZSPEC'], main_chi2['chi2'], c=main_chi2['compare'], cmap='PiYG',norm=norm, alpha=0.5)\n",
    "plt.colorbar()\n",
    "plt.xlabel('ZSPEC')\n",
    "plt.ylabel('Chi2')\n",
    "plt.yscale('log')\n",
    "plt.title('Chi2 vs ZSPEC with Redshift Difference')"
   ],
   "metadata": {
    "collapsed": false
   }
  },
  {
   "cell_type": "code",
   "execution_count": null,
   "outputs": [],
   "source": [
    "no_of_bins = 20\n",
    "bin_edges = pd.qcut(main_chi2['chi2'], no_of_bins)\n",
    "bin_edges = bin_edges.cat.categories\n",
    "chi2_bins = np.zeros([no_of_bins, 3])\n",
    "for i in range(no_of_bins):\n",
    "    min_loop = bin_edges[i].left\n",
    "    max_loop = bin_edges[i].right\n",
    "    bin_values = main_chi2[(main_chi2['chi2'] >= min_loop) & (main_chi2['chi2'] <= max_loop)]\n",
    "    chi2_bins[i, 0] = sum(bin_values['compare'] >= catastrophic_limit) / len(bin_values) # outlier fraction (outliers / total)\n",
    "    chi2_bins[i, 1] = np.std(bin_values['chi2'])**2 # chi2 variance\n",
    "    chi2_bins[i, 2] = np.mean(bin_values['chi2']) # chi2 mean\n",
    "\n",
    "fig,(ax1, ax2) = plt.subplots(2, 1, sharex=True)\n",
    "ax1.scatter(main_chi2['chi2'], main_chi2['compare'], marker='.', alpha=0.5)\n",
    "ax1.plot([0, max(main_chi2['chi2'])], [0, 0], 'k--')\n",
    "#ax1.ylabel('ZPHOT - ZSPEC / (1 + ZSPEC)')\n",
    "ax1.set_ylim(-0.5, 0.5)\n",
    "ax1.set_title('Chi2 vs Redshift Difference')\n",
    "\n",
    "ax2.plot(chi2_bins[:, 2], chi2_bins[:, 0], 'r--', label='Outlier Fraction')\n",
    "ax2.plot(chi2_bins[:, 2], chi2_bins[:, 1] / max(chi2_bins[:, 1]), 'b--', label='Chi2 Variance')\n",
    "ax2.legend()\n",
    "ax2.set_xlabel('Chi2')\n",
    "ax2.set_xscale('log')"
   ],
   "metadata": {
    "collapsed": false
   }
  },
  {
   "cell_type": "markdown",
   "source": [],
   "metadata": {
    "collapsed": false
   }
  },
  {
   "cell_type": "markdown",
   "source": [
    "## Redshift Vs AGN Fraction"
   ],
   "metadata": {
    "collapsed": false
   }
  },
  {
   "cell_type": "code",
   "execution_count": null,
   "outputs": [],
   "source": [
    "delta_z = (np.array(main_agn['ZPHOT']) - np.array(main_agn['ZSPEC'])) / (1 + np.array(main_agn['ZSPEC']))\n",
    "red_agn_plot = pd.DataFrame(columns=['delta_z', 'agn_fraction'])\n",
    "red_agn_plot['delta_z'] = delta_z\n",
    "agn_fraction = main_agn['bayes.agn.fracAGN']\n",
    "agn_fraction.index = range(len(agn_fraction))\n",
    "red_agn_plot['agn_fraction'] = agn_fraction\n",
    "red_agn_plot = red_agn_plot.sort_values(by=['agn_fraction'])\n",
    "#red_agn_plot = red_agn_plot[abs(red_agn_plot['delta_z']) <= catastrophic_limit]\n",
    "\n",
    "no_of_bins_red_agn = 30\n",
    "bin_edges = pd.qcut(red_agn_plot['agn_fraction'], no_of_bins_red_agn)\n",
    "bin_edges = bin_edges.cat.categories\n",
    "red_agn_bins = np.zeros([no_of_bins_red_agn, 2])\n",
    "\n",
    "for i in range(no_of_bins_red_agn):\n",
    "    min_loop = bin_edges[i].left\n",
    "    max_loop = bin_edges[i].right\n",
    "    bin_values = red_agn_plot[(red_agn_plot['agn_fraction'] >= min_loop) & (red_agn_plot['agn_fraction'] <= max_loop)]\n",
    "    red_agn_bins[i, 0] = np.mean(bin_values['delta_z'])\n",
    "    red_agn_bins[i, 1] = np.mean(bin_values['agn_fraction'])"
   ],
   "metadata": {
    "collapsed": false
   }
  },
  {
   "cell_type": "code",
   "execution_count": null,
   "outputs": [],
   "source": [
    "plt.clf()\n",
    "plt.scatter(red_agn_plot['agn_fraction'], red_agn_plot['delta_z'], alpha=0.5)\n",
    "plt.plot(red_agn_bins[:, 1], red_agn_bins[:, 0], 'r--')\n",
    "plt.ylim(-0.5, 0.5)\n",
    "plt.xlabel('AGN Fraction')\n",
    "plt.ylabel('Zp - Zs /(1+Zs)')\n",
    "plt.title('Redshift vs AGN Fraction')"
   ],
   "metadata": {
    "collapsed": false
   }
  },
  {
   "cell_type": "markdown",
   "source": [
    "Residuals"
   ],
   "metadata": {
    "collapsed": false
   }
  },
  {
   "cell_type": "code",
   "execution_count": null,
   "outputs": [],
   "source": [
    "#limit the no of objects to those that are present in all bands, and have a positive redshift\n",
    "flux_observed = []\n",
    "flux_residual_objects = []\n",
    "\n",
    "# Filter section\n",
    "filter_attendance = 39 # can miss 1 filter and still be selected\n",
    "for i in range(len(self.fnu)):\n",
    "    if self.ZSPEC[i] < 0.001:\n",
    "        continue\n",
    "    if sum(self.fnu[i] <= 0) > filter_attendance:\n",
    "        continue # don't use objects where more than filter attendance filters are missing (eg. if one filter_attendance is 1, if one filter is missing it still goes forward, if two are missing it doesn't)\n",
    "    else:\n",
    "        flux_observed.append(self.fnu[i])\n",
    "        flux_residual_objects.append(i)\n",
    "flux_observed = np.array(flux_observed)\n",
    "\n",
    "#find the residuals of the objects\n",
    "flux_model = self.fmodel[flux_residual_objects]\n",
    "error_observed = self.efnu[flux_residual_objects]\n",
    "flux_residual = np.zeros_like(flux_observed)\n",
    "residual_uncertainties = []\n",
    "for row in range(len(flux_residual_objects)):\n",
    "    residual_uncertainties.append(error_observed[row] / flux_observed[row])\n",
    "    for col in range(flux_observed.shape[1]): #no. of bands\n",
    "        if flux_observed[row,col] == -99: # if the flux is -99, it is not recorded and should not be shown as such\n",
    "            flux_residual[row, col] = math.nan\n",
    "        elif flux_model[row,col] == 0: # some models have no flux, this means they will be removed later\n",
    "            flux_residual[row, col] = math.nan\n",
    "        else:\n",
    "            flux_residual[row,col] = (flux_observed[row,col] - flux_model[row,col]) / flux_observed[row,col]\n",
    "\n",
    "#flux_residual = flux_residual[~np.isnan(flux_residual).any(axis=1)] # remove nan values\n",
    "residual_uncertainties = np.array(residual_uncertainties)\n",
    "\n",
    "#redshift the objects\n",
    "object_redshifted = []\n",
    "pivots = self.pivot\n",
    "for i in range(len(flux_residual_objects)):\n",
    "    im = flux_residual_objects[i]\n",
    "    redshifted = pivots / (1 + self.ZSPEC[im])\n",
    "    object_redshifted.append(redshifted)\n",
    "object_redshifted = np.array(object_redshifted)"
   ],
   "metadata": {
    "collapsed": false
   }
  },
  {
   "cell_type": "code",
   "execution_count": null,
   "outputs": [],
   "source": [
    "pd.DataFrame(flux_model).describe()"
   ],
   "metadata": {
    "collapsed": false
   }
  },
  {
   "cell_type": "code",
   "execution_count": null,
   "outputs": [],
   "source": [
    "#plot the residuals\n",
    "wavelength_flat = object_redshifted.flatten()\n",
    "residual_flat = flux_residual.flatten()\n",
    "uncertainties_flat = residual_uncertainties.flatten()\n",
    "\n",
    "#binning\n",
    "obj_per_bin = round(0.5 * sum(self.ZSPEC > 0.001)) #EAZY used 2000\n",
    "res_sorted = pd.DataFrame({'wavelength':wavelength_flat, 'residual':residual_flat, 'uncertainties':uncertainties_flat})\n",
    "res_sorted = res_sorted.sort_values(by='wavelength')\n",
    "res_sorted = res_sorted.dropna(how='any') # remove nan\n",
    "res_std = np.std(res_sorted['residual'])\n",
    "res_sorted = res_sorted[abs(res_sorted['residual']) < 3 * res_std] # remove 3sig outliers\n",
    "no_of_bins_res = np.ceil(len(res_sorted) // obj_per_bin)\n",
    "res_sorted = res_sorted.reset_index(drop=True)\n",
    "res_sorted_copy = res_sorted # not abs\n",
    "res_sorted = abs(res_sorted)\n",
    "res_bin = pd.DataFrame(columns=[\"Median Residuals\", \"Median Wavelength\", \"Median Uncertainties\", \"Confidence\"])\n",
    "res_bin_copy = pd.DataFrame(columns=[\"Median Residuals\", \"Median Wavelength\", \"Median Uncertainties\", 'Confidence'])\n",
    "for i in range(int(no_of_bins_res)):\n",
    "    min_loop = i * obj_per_bin\n",
    "    max_loop = ((i+1) * obj_per_bin)\n",
    "    med_res = np.median(res_sorted['residual'][min_loop:max_loop])\n",
    "    med_res_copy = np.median(res_sorted_copy['residual'][min_loop:max_loop]) # only the residuals should be affected by abs\n",
    "    med_wave = np.median(res_sorted['wavelength'][min_loop:max_loop])\n",
    "    med_unc = np.median(res_sorted['uncertainties'][min_loop:max_loop])\n",
    "    confidence =  (50/68.2) * 1.2533 * (np.std(res_sorted_copy['residual'][min_loop:max_loop])/np.sqrt(obj_per_bin)) # want 50% confidence interval from standard error of the median\n",
    "    res_bin.loc[i] = [med_res, med_wave, med_unc, confidence]\n",
    "    res_bin_copy.loc[i] = [med_res_copy, med_wave, med_unc, confidence] # copy is not abs, used in plot with negative values"
   ],
   "metadata": {
    "collapsed": false
   }
  },
  {
   "cell_type": "code",
   "execution_count": null,
   "outputs": [],
   "source": [
    "res_sorted.describe()"
   ],
   "metadata": {
    "collapsed": false
   }
  },
  {
   "cell_type": "code",
   "execution_count": null,
   "outputs": [],
   "source": [
    "plt.clf()\n",
    "fig, ax = plt.subplots(2, 1, sharex=True)\n",
    "fig.gca().set_xscale('log')\n",
    "fig.gca().xaxis.set_major_formatter('{x:.0f}')\n",
    "\n",
    "ax[0].plot(wavelength_flat, residual_flat, 'k,', alpha=0.1)\n",
    "ax[0].plot(res_bin_copy[\"Median Wavelength\"], res_bin_copy[\"Median Residuals\"], 'r')\n",
    "ax[0].fill_between(res_bin_copy[\"Median Wavelength\"],\n",
    "                 res_bin_copy[\"Median Residuals\"] - res_bin[\"Confidence\"],\n",
    "                 res_bin_copy[\"Median Residuals\"] + res_bin[\"Confidence\"], alpha=0.2, color='orange')\n",
    "ax[0].axhline(y=0, color='black', linestyle='--', linewidth=1)\n",
    "ax[0].set_ylim(-0.2, 0.2)\n",
    "ax[0].set_xlim(1e3, 6e4)\n",
    "ax[0].set_ylabel('F-T/F')\n",
    "ax[0].set_title(f'Residuals of the objects at Restframe for {id_key} in {field} with {agn_sed}')\n",
    "\n",
    "ax[1].plot(res_bin[\"Median Wavelength\"], res_bin[\"Median Residuals\"], 'r', label='Absolute Residuals')\n",
    "# ax[1].plot(res_bin[\"Median Wavelength\"], res_bin[\"Median Uncertainties\"], 'b-.', label='Uncertainties')\n",
    "ax[1].plot(res_bin[\"Median Wavelength\"], res_bin[\"Confidence\"], 'k-.', label='Confidence')\n",
    "ax[1].set_ylim(0, 0.3)\n",
    "ax[1].set_ylabel('Median Residuals')\n",
    "ax[1].set_xlabel('Wavelength (Angstrom)')\n",
    "ax[1].legend()\n",
    "\n",
    "fig.tight_layout()\n",
    "\n",
    "#plt.savefig(f'{output_directory}_residuals.png')\n",
    "plt.show()"
   ],
   "metadata": {
    "collapsed": false
   }
  },
  {
   "cell_type": "markdown",
   "source": [
    "Saving Key data to csv and h5"
   ],
   "metadata": {
    "collapsed": false
   }
  },
  {
   "cell_type": "code",
   "execution_count": null,
   "outputs": [],
   "source": [
    "individual_data = pd.DataFrame(columns=['id', 'phot_redshift', 'chi2'])\n",
    "individual_data['id'] = self.idx\n",
    "individual_data['phot_redshift'] = self.zbest\n",
    "individual_data['chi2'] = self.chi2_best\n",
    "for i in range(self.fmodel.shape[1]):\n",
    "    individual_data[f'band_{i}'] = self.fmodel[:,i]\n",
    "individual_data.to_csv(f'{output_directory}_individual_data.csv', index=False)"
   ],
   "metadata": {
    "collapsed": false
   }
  },
  {
   "cell_type": "code",
   "execution_count": null,
   "outputs": [],
   "source": [
    "key_data = pd.DataFrame(columns=headings)\n",
    "key_data.loc[0] = [id_key, params['Z_STEP'], template_key, templates_use, use_galaxy_templates, total_count, mean_frac, spec_count, outlier_count, total_nmad, outlier_nmad, outlier_fraction]\n",
    "key_data.to_csv(key_data_file, mode='a', index=False, header=False)"
   ],
   "metadata": {
    "collapsed": false
   }
  },
  {
   "cell_type": "code",
   "execution_count": null,
   "outputs": [],
   "source": [
    "eazy.hdf5.write_hdf5(self, h5file=output_directory + '.h5')"
   ],
   "metadata": {
    "collapsed": false
   }
  },
  {
   "cell_type": "code",
   "execution_count": null,
   "outputs": [],
   "source": [
    "# These are template independent, and are only saved from template auto reload. Use the whole cat when saving these, just steals what EAZY makes really. Eazy formats from the highest wavelength to lowest, and to be consistent i just copy that.\n",
    "spec_data = pd.DataFrame(columns=['id', 'zspec'])\n",
    "spec_data['id'] = self.idx\n",
    "spec_data['zspec'] = self.ZSPEC\n",
    "\n",
    "filter_data = pd.DataFrame(columns=['filter', 'pivot'])\n",
    "filter_data['filter'] = self.filters\n",
    "filter_data['pivot'] = self.pivot\n",
    "\n",
    "flux_data = pd.DataFrame()\n",
    "for i in range(self.fnu.shape[1]):\n",
    "    flux_data[f'f_band_{i}'] = self.fnu[:,i]\n",
    "    flux_data[f'e_band_{i}'] = self.efnu[:,i]\n",
    "\n",
    "# Uncomment if you want to change these files\n",
    "#spec_data.to_csv(f'{output_location}/{field}/spec_data.csv', index=False)\n",
    "#filter_data.to_csv(f'{output_location}/{field}/filter_data.csv', index=False)\n",
    "#flux_data.to_csv(f'{output_location}/{field}/flux_data.csv', index=False)\n"
   ],
   "metadata": {
    "collapsed": false
   }
  },
  {
   "cell_type": "code",
   "execution_count": null,
   "outputs": [],
   "source": [],
   "metadata": {
    "collapsed": false
   }
  }
 ],
 "metadata": {
  "kernelspec": {
   "display_name": "Python 3 (ipykernel)",
   "language": "python",
   "name": "python3"
  },
  "language_info": {
   "codemirror_mode": {
    "name": "ipython",
    "version": 3
   },
   "file_extension": ".py",
   "mimetype": "text/x-python",
   "name": "python",
   "nbconvert_exporter": "python",
   "pygments_lexer": "ipython3",
   "version": "3.10.13"
  }
 },
 "nbformat": 4,
 "nbformat_minor": 4
}
